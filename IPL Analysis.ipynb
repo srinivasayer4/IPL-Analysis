{
 "cells": [
  {
   "cell_type": "markdown",
   "metadata": {},
   "source": [
    "# Introduction"
   ]
  },
  {
   "cell_type": "code",
   "execution_count": null,
   "metadata": {},
   "outputs": [],
   "source": []
  },
  {
   "cell_type": "code",
   "execution_count": 1,
   "metadata": {},
   "outputs": [],
   "source": [
    "import pandas as pd\n",
    "import numpy as np\n",
    "import matplotlib.pyplot as plt\n",
    "import seaborn as sns"
   ]
  },
  {
   "cell_type": "markdown",
   "metadata": {},
   "source": [
    "# Data Gathering"
   ]
  },
  {
   "cell_type": "code",
   "execution_count": 2,
   "metadata": {},
   "outputs": [
    {
     "data": {
      "text/html": [
       "<div>\n",
       "<style scoped>\n",
       "    .dataframe tbody tr th:only-of-type {\n",
       "        vertical-align: middle;\n",
       "    }\n",
       "\n",
       "    .dataframe tbody tr th {\n",
       "        vertical-align: top;\n",
       "    }\n",
       "\n",
       "    .dataframe thead th {\n",
       "        text-align: right;\n",
       "    }\n",
       "</style>\n",
       "<table border=\"1\" class=\"dataframe\">\n",
       "  <thead>\n",
       "    <tr style=\"text-align: right;\">\n",
       "      <th></th>\n",
       "      <th>id</th>\n",
       "      <th>season</th>\n",
       "      <th>city</th>\n",
       "      <th>date</th>\n",
       "      <th>team1</th>\n",
       "      <th>team2</th>\n",
       "      <th>toss_winner</th>\n",
       "      <th>toss_decision</th>\n",
       "      <th>result</th>\n",
       "      <th>dl_applied</th>\n",
       "      <th>winner</th>\n",
       "      <th>win_by_runs</th>\n",
       "      <th>win_by_wickets</th>\n",
       "      <th>player_of_match</th>\n",
       "      <th>venue</th>\n",
       "      <th>umpire1</th>\n",
       "      <th>umpire2</th>\n",
       "      <th>umpire3</th>\n",
       "    </tr>\n",
       "  </thead>\n",
       "  <tbody>\n",
       "    <tr>\n",
       "      <td>0</td>\n",
       "      <td>1</td>\n",
       "      <td>2017</td>\n",
       "      <td>Hyderabad</td>\n",
       "      <td>2017-04-05</td>\n",
       "      <td>Sunrisers Hyderabad</td>\n",
       "      <td>Royal Challengers Bangalore</td>\n",
       "      <td>Royal Challengers Bangalore</td>\n",
       "      <td>field</td>\n",
       "      <td>normal</td>\n",
       "      <td>0</td>\n",
       "      <td>Sunrisers Hyderabad</td>\n",
       "      <td>35</td>\n",
       "      <td>0</td>\n",
       "      <td>Yuvraj Singh</td>\n",
       "      <td>Rajiv Gandhi International Stadium, Uppal</td>\n",
       "      <td>AY Dandekar</td>\n",
       "      <td>NJ Llong</td>\n",
       "      <td>NaN</td>\n",
       "    </tr>\n",
       "    <tr>\n",
       "      <td>1</td>\n",
       "      <td>2</td>\n",
       "      <td>2017</td>\n",
       "      <td>Pune</td>\n",
       "      <td>2017-04-06</td>\n",
       "      <td>Mumbai Indians</td>\n",
       "      <td>Rising Pune Supergiant</td>\n",
       "      <td>Rising Pune Supergiant</td>\n",
       "      <td>field</td>\n",
       "      <td>normal</td>\n",
       "      <td>0</td>\n",
       "      <td>Rising Pune Supergiant</td>\n",
       "      <td>0</td>\n",
       "      <td>7</td>\n",
       "      <td>SPD Smith</td>\n",
       "      <td>Maharashtra Cricket Association Stadium</td>\n",
       "      <td>A Nand Kishore</td>\n",
       "      <td>S Ravi</td>\n",
       "      <td>NaN</td>\n",
       "    </tr>\n",
       "  </tbody>\n",
       "</table>\n",
       "</div>"
      ],
      "text/plain": [
       "   id  season       city        date                team1  \\\n",
       "0   1    2017  Hyderabad  2017-04-05  Sunrisers Hyderabad   \n",
       "1   2    2017       Pune  2017-04-06       Mumbai Indians   \n",
       "\n",
       "                         team2                  toss_winner toss_decision  \\\n",
       "0  Royal Challengers Bangalore  Royal Challengers Bangalore         field   \n",
       "1       Rising Pune Supergiant       Rising Pune Supergiant         field   \n",
       "\n",
       "   result  dl_applied                  winner  win_by_runs  win_by_wickets  \\\n",
       "0  normal           0     Sunrisers Hyderabad           35               0   \n",
       "1  normal           0  Rising Pune Supergiant            0               7   \n",
       "\n",
       "  player_of_match                                      venue         umpire1  \\\n",
       "0    Yuvraj Singh  Rajiv Gandhi International Stadium, Uppal     AY Dandekar   \n",
       "1       SPD Smith    Maharashtra Cricket Association Stadium  A Nand Kishore   \n",
       "\n",
       "    umpire2 umpire3  \n",
       "0  NJ Llong     NaN  \n",
       "1    S Ravi     NaN  "
      ]
     },
     "execution_count": 2,
     "metadata": {},
     "output_type": "execute_result"
    }
   ],
   "source": [
    "# Reading the match data from the csv file\n",
    "match = pd.read_csv(r'C:\\Users\\srini\\Projects\\IPL\\matches.csv')\n",
    "match.head(2)"
   ]
  },
  {
   "cell_type": "code",
   "execution_count": 3,
   "metadata": {},
   "outputs": [
    {
     "data": {
      "text/html": [
       "<div>\n",
       "<style scoped>\n",
       "    .dataframe tbody tr th:only-of-type {\n",
       "        vertical-align: middle;\n",
       "    }\n",
       "\n",
       "    .dataframe tbody tr th {\n",
       "        vertical-align: top;\n",
       "    }\n",
       "\n",
       "    .dataframe thead th {\n",
       "        text-align: right;\n",
       "    }\n",
       "</style>\n",
       "<table border=\"1\" class=\"dataframe\">\n",
       "  <thead>\n",
       "    <tr style=\"text-align: right;\">\n",
       "      <th></th>\n",
       "      <th>match_id</th>\n",
       "      <th>inning</th>\n",
       "      <th>batting_team</th>\n",
       "      <th>bowling_team</th>\n",
       "      <th>over</th>\n",
       "      <th>ball</th>\n",
       "      <th>batsman</th>\n",
       "      <th>non_striker</th>\n",
       "      <th>bowler</th>\n",
       "      <th>is_super_over</th>\n",
       "      <th>...</th>\n",
       "      <th>bye_runs</th>\n",
       "      <th>legbye_runs</th>\n",
       "      <th>noball_runs</th>\n",
       "      <th>penalty_runs</th>\n",
       "      <th>batsman_runs</th>\n",
       "      <th>extra_runs</th>\n",
       "      <th>total_runs</th>\n",
       "      <th>player_dismissed</th>\n",
       "      <th>dismissal_kind</th>\n",
       "      <th>fielder</th>\n",
       "    </tr>\n",
       "  </thead>\n",
       "  <tbody>\n",
       "    <tr>\n",
       "      <td>0</td>\n",
       "      <td>1</td>\n",
       "      <td>1</td>\n",
       "      <td>Sunrisers Hyderabad</td>\n",
       "      <td>Royal Challengers Bangalore</td>\n",
       "      <td>1</td>\n",
       "      <td>1</td>\n",
       "      <td>DA Warner</td>\n",
       "      <td>S Dhawan</td>\n",
       "      <td>TS Mills</td>\n",
       "      <td>0</td>\n",
       "      <td>...</td>\n",
       "      <td>0</td>\n",
       "      <td>0</td>\n",
       "      <td>0</td>\n",
       "      <td>0</td>\n",
       "      <td>0</td>\n",
       "      <td>0</td>\n",
       "      <td>0</td>\n",
       "      <td>NaN</td>\n",
       "      <td>NaN</td>\n",
       "      <td>NaN</td>\n",
       "    </tr>\n",
       "    <tr>\n",
       "      <td>1</td>\n",
       "      <td>1</td>\n",
       "      <td>1</td>\n",
       "      <td>Sunrisers Hyderabad</td>\n",
       "      <td>Royal Challengers Bangalore</td>\n",
       "      <td>1</td>\n",
       "      <td>2</td>\n",
       "      <td>DA Warner</td>\n",
       "      <td>S Dhawan</td>\n",
       "      <td>TS Mills</td>\n",
       "      <td>0</td>\n",
       "      <td>...</td>\n",
       "      <td>0</td>\n",
       "      <td>0</td>\n",
       "      <td>0</td>\n",
       "      <td>0</td>\n",
       "      <td>0</td>\n",
       "      <td>0</td>\n",
       "      <td>0</td>\n",
       "      <td>NaN</td>\n",
       "      <td>NaN</td>\n",
       "      <td>NaN</td>\n",
       "    </tr>\n",
       "  </tbody>\n",
       "</table>\n",
       "<p>2 rows × 21 columns</p>\n",
       "</div>"
      ],
      "text/plain": [
       "   match_id  inning         batting_team                 bowling_team  over  \\\n",
       "0         1       1  Sunrisers Hyderabad  Royal Challengers Bangalore     1   \n",
       "1         1       1  Sunrisers Hyderabad  Royal Challengers Bangalore     1   \n",
       "\n",
       "   ball    batsman non_striker    bowler  is_super_over  ...  bye_runs  \\\n",
       "0     1  DA Warner    S Dhawan  TS Mills              0  ...         0   \n",
       "1     2  DA Warner    S Dhawan  TS Mills              0  ...         0   \n",
       "\n",
       "   legbye_runs  noball_runs  penalty_runs  batsman_runs  extra_runs  \\\n",
       "0            0            0             0             0           0   \n",
       "1            0            0             0             0           0   \n",
       "\n",
       "   total_runs  player_dismissed dismissal_kind fielder  \n",
       "0           0               NaN            NaN     NaN  \n",
       "1           0               NaN            NaN     NaN  \n",
       "\n",
       "[2 rows x 21 columns]"
      ]
     },
     "execution_count": 3,
     "metadata": {},
     "output_type": "execute_result"
    }
   ],
   "source": [
    "# Reading the data for each ball \n",
    "ball= pd.read_csv(r'C:\\Users\\srini\\Projects\\IPL\\deliveries.csv')\n",
    "ball.head(2)"
   ]
  },
  {
   "cell_type": "markdown",
   "metadata": {},
   "source": [
    "Gathering data for captaincy"
   ]
  },
  {
   "cell_type": "code",
   "execution_count": null,
   "metadata": {},
   "outputs": [],
   "source": []
  },
  {
   "cell_type": "code",
   "execution_count": null,
   "metadata": {},
   "outputs": [],
   "source": []
  },
  {
   "cell_type": "markdown",
   "metadata": {},
   "source": [
    "# Data Wrangling"
   ]
  },
  {
   "cell_type": "markdown",
   "metadata": {},
   "source": [
    "### Missing Values"
   ]
  },
  {
   "cell_type": "code",
   "execution_count": 4,
   "metadata": {},
   "outputs": [
    {
     "name": "stdout",
     "output_type": "stream",
     "text": [
      "<class 'pandas.core.frame.DataFrame'>\n",
      "RangeIndex: 756 entries, 0 to 755\n",
      "Data columns (total 18 columns):\n",
      "id                 756 non-null int64\n",
      "season             756 non-null int64\n",
      "city               749 non-null object\n",
      "date               756 non-null object\n",
      "team1              756 non-null object\n",
      "team2              756 non-null object\n",
      "toss_winner        756 non-null object\n",
      "toss_decision      756 non-null object\n",
      "result             756 non-null object\n",
      "dl_applied         756 non-null int64\n",
      "winner             752 non-null object\n",
      "win_by_runs        756 non-null int64\n",
      "win_by_wickets     756 non-null int64\n",
      "player_of_match    752 non-null object\n",
      "venue              756 non-null object\n",
      "umpire1            754 non-null object\n",
      "umpire2            754 non-null object\n",
      "umpire3            119 non-null object\n",
      "dtypes: int64(5), object(13)\n",
      "memory usage: 106.4+ KB\n"
     ]
    }
   ],
   "source": [
    "match.info()"
   ]
  },
  {
   "cell_type": "markdown",
   "metadata": {},
   "source": [
    "So there are total 756 matches with 752 decided winners. Let us see which rows do not have any decided winner."
   ]
  },
  {
   "cell_type": "code",
   "execution_count": 5,
   "metadata": {},
   "outputs": [
    {
     "data": {
      "text/html": [
       "<div>\n",
       "<style scoped>\n",
       "    .dataframe tbody tr th:only-of-type {\n",
       "        vertical-align: middle;\n",
       "    }\n",
       "\n",
       "    .dataframe tbody tr th {\n",
       "        vertical-align: top;\n",
       "    }\n",
       "\n",
       "    .dataframe thead th {\n",
       "        text-align: right;\n",
       "    }\n",
       "</style>\n",
       "<table border=\"1\" class=\"dataframe\">\n",
       "  <thead>\n",
       "    <tr style=\"text-align: right;\">\n",
       "      <th></th>\n",
       "      <th>id</th>\n",
       "      <th>season</th>\n",
       "      <th>city</th>\n",
       "      <th>date</th>\n",
       "      <th>team1</th>\n",
       "      <th>team2</th>\n",
       "      <th>toss_winner</th>\n",
       "      <th>toss_decision</th>\n",
       "      <th>result</th>\n",
       "      <th>dl_applied</th>\n",
       "      <th>winner</th>\n",
       "      <th>win_by_runs</th>\n",
       "      <th>win_by_wickets</th>\n",
       "      <th>player_of_match</th>\n",
       "      <th>venue</th>\n",
       "      <th>umpire1</th>\n",
       "      <th>umpire2</th>\n",
       "      <th>umpire3</th>\n",
       "    </tr>\n",
       "  </thead>\n",
       "  <tbody>\n",
       "    <tr>\n",
       "      <td>300</td>\n",
       "      <td>301</td>\n",
       "      <td>2011</td>\n",
       "      <td>Delhi</td>\n",
       "      <td>2011-05-21</td>\n",
       "      <td>Delhi Daredevils</td>\n",
       "      <td>Pune Warriors</td>\n",
       "      <td>Delhi Daredevils</td>\n",
       "      <td>bat</td>\n",
       "      <td>no result</td>\n",
       "      <td>0</td>\n",
       "      <td>NaN</td>\n",
       "      <td>0</td>\n",
       "      <td>0</td>\n",
       "      <td>NaN</td>\n",
       "      <td>Feroz Shah Kotla</td>\n",
       "      <td>SS Hazare</td>\n",
       "      <td>RJ Tucker</td>\n",
       "      <td>NaN</td>\n",
       "    </tr>\n",
       "    <tr>\n",
       "      <td>545</td>\n",
       "      <td>546</td>\n",
       "      <td>2015</td>\n",
       "      <td>Bangalore</td>\n",
       "      <td>2015-04-29</td>\n",
       "      <td>Royal Challengers Bangalore</td>\n",
       "      <td>Rajasthan Royals</td>\n",
       "      <td>Rajasthan Royals</td>\n",
       "      <td>field</td>\n",
       "      <td>no result</td>\n",
       "      <td>0</td>\n",
       "      <td>NaN</td>\n",
       "      <td>0</td>\n",
       "      <td>0</td>\n",
       "      <td>NaN</td>\n",
       "      <td>M Chinnaswamy Stadium</td>\n",
       "      <td>JD Cloete</td>\n",
       "      <td>PG Pathak</td>\n",
       "      <td>NaN</td>\n",
       "    </tr>\n",
       "    <tr>\n",
       "      <td>570</td>\n",
       "      <td>571</td>\n",
       "      <td>2015</td>\n",
       "      <td>Bangalore</td>\n",
       "      <td>2015-05-17</td>\n",
       "      <td>Delhi Daredevils</td>\n",
       "      <td>Royal Challengers Bangalore</td>\n",
       "      <td>Royal Challengers Bangalore</td>\n",
       "      <td>field</td>\n",
       "      <td>no result</td>\n",
       "      <td>0</td>\n",
       "      <td>NaN</td>\n",
       "      <td>0</td>\n",
       "      <td>0</td>\n",
       "      <td>NaN</td>\n",
       "      <td>M Chinnaswamy Stadium</td>\n",
       "      <td>HDPK Dharmasena</td>\n",
       "      <td>K Srinivasan</td>\n",
       "      <td>NaN</td>\n",
       "    </tr>\n",
       "    <tr>\n",
       "      <td>744</td>\n",
       "      <td>11340</td>\n",
       "      <td>2019</td>\n",
       "      <td>Bengaluru</td>\n",
       "      <td>30/04/19</td>\n",
       "      <td>Royal Challengers Bangalore</td>\n",
       "      <td>Rajasthan Royals</td>\n",
       "      <td>Rajasthan Royals</td>\n",
       "      <td>field</td>\n",
       "      <td>no result</td>\n",
       "      <td>0</td>\n",
       "      <td>NaN</td>\n",
       "      <td>0</td>\n",
       "      <td>0</td>\n",
       "      <td>NaN</td>\n",
       "      <td>M. Chinnaswamy Stadium</td>\n",
       "      <td>Nigel Llong</td>\n",
       "      <td>Ulhas Gandhe</td>\n",
       "      <td>Anil Chaudhary</td>\n",
       "    </tr>\n",
       "  </tbody>\n",
       "</table>\n",
       "</div>"
      ],
      "text/plain": [
       "        id  season       city        date                        team1  \\\n",
       "300    301    2011      Delhi  2011-05-21             Delhi Daredevils   \n",
       "545    546    2015  Bangalore  2015-04-29  Royal Challengers Bangalore   \n",
       "570    571    2015  Bangalore  2015-05-17             Delhi Daredevils   \n",
       "744  11340    2019  Bengaluru    30/04/19  Royal Challengers Bangalore   \n",
       "\n",
       "                           team2                  toss_winner toss_decision  \\\n",
       "300                Pune Warriors             Delhi Daredevils           bat   \n",
       "545             Rajasthan Royals             Rajasthan Royals         field   \n",
       "570  Royal Challengers Bangalore  Royal Challengers Bangalore         field   \n",
       "744             Rajasthan Royals             Rajasthan Royals         field   \n",
       "\n",
       "        result  dl_applied winner  win_by_runs  win_by_wickets  \\\n",
       "300  no result           0    NaN            0               0   \n",
       "545  no result           0    NaN            0               0   \n",
       "570  no result           0    NaN            0               0   \n",
       "744  no result           0    NaN            0               0   \n",
       "\n",
       "    player_of_match                   venue          umpire1       umpire2  \\\n",
       "300             NaN        Feroz Shah Kotla        SS Hazare     RJ Tucker   \n",
       "545             NaN   M Chinnaswamy Stadium        JD Cloete     PG Pathak   \n",
       "570             NaN   M Chinnaswamy Stadium  HDPK Dharmasena  K Srinivasan   \n",
       "744             NaN  M. Chinnaswamy Stadium      Nigel Llong  Ulhas Gandhe   \n",
       "\n",
       "            umpire3  \n",
       "300             NaN  \n",
       "545             NaN  \n",
       "570             NaN  \n",
       "744  Anil Chaudhary  "
      ]
     },
     "execution_count": 5,
     "metadata": {},
     "output_type": "execute_result"
    }
   ],
   "source": [
    "match[match.isna()['winner']]"
   ]
  },
  {
   "cell_type": "markdown",
   "metadata": {},
   "source": [
    "So these matches were probably washed from the rains and did not have any results declared."
   ]
  },
  {
   "cell_type": "code",
   "execution_count": 6,
   "metadata": {},
   "outputs": [
    {
     "name": "stdout",
     "output_type": "stream",
     "text": [
      "<class 'pandas.core.frame.DataFrame'>\n",
      "RangeIndex: 179078 entries, 0 to 179077\n",
      "Data columns (total 21 columns):\n",
      "match_id            179078 non-null int64\n",
      "inning              179078 non-null int64\n",
      "batting_team        179078 non-null object\n",
      "bowling_team        179078 non-null object\n",
      "over                179078 non-null int64\n",
      "ball                179078 non-null int64\n",
      "batsman             179078 non-null object\n",
      "non_striker         179078 non-null object\n",
      "bowler              179078 non-null object\n",
      "is_super_over       179078 non-null int64\n",
      "wide_runs           179078 non-null int64\n",
      "bye_runs            179078 non-null int64\n",
      "legbye_runs         179078 non-null int64\n",
      "noball_runs         179078 non-null int64\n",
      "penalty_runs        179078 non-null int64\n",
      "batsman_runs        179078 non-null int64\n",
      "extra_runs          179078 non-null int64\n",
      "total_runs          179078 non-null int64\n",
      "player_dismissed    8834 non-null object\n",
      "dismissal_kind      8834 non-null object\n",
      "fielder             6448 non-null object\n",
      "dtypes: int64(13), object(8)\n",
      "memory usage: 28.7+ MB\n"
     ]
    }
   ],
   "source": [
    "ball.info()"
   ]
  },
  {
   "cell_type": "markdown",
   "metadata": {},
   "source": [
    "This dataframe has missing values only for player dismissed and dismissal_kind. <br>\n",
    "\n",
    "The data type for all the columns also seem to be okay."
   ]
  },
  {
   "cell_type": "markdown",
   "metadata": {},
   "source": [
    "### Duplicate values"
   ]
  },
  {
   "cell_type": "code",
   "execution_count": 7,
   "metadata": {},
   "outputs": [
    {
     "data": {
      "text/plain": [
       "0"
      ]
     },
     "execution_count": 7,
     "metadata": {},
     "output_type": "execute_result"
    }
   ],
   "source": [
    "match.duplicated().sum()"
   ]
  },
  {
   "cell_type": "code",
   "execution_count": 8,
   "metadata": {},
   "outputs": [
    {
     "data": {
      "text/plain": [
       "23"
      ]
     },
     "execution_count": 8,
     "metadata": {},
     "output_type": "execute_result"
    }
   ],
   "source": [
    "ball.duplicated().sum()"
   ]
  },
  {
   "cell_type": "code",
   "execution_count": 9,
   "metadata": {},
   "outputs": [
    {
     "data": {
      "text/html": [
       "<div>\n",
       "<style scoped>\n",
       "    .dataframe tbody tr th:only-of-type {\n",
       "        vertical-align: middle;\n",
       "    }\n",
       "\n",
       "    .dataframe tbody tr th {\n",
       "        vertical-align: top;\n",
       "    }\n",
       "\n",
       "    .dataframe thead th {\n",
       "        text-align: right;\n",
       "    }\n",
       "</style>\n",
       "<table border=\"1\" class=\"dataframe\">\n",
       "  <thead>\n",
       "    <tr style=\"text-align: right;\">\n",
       "      <th></th>\n",
       "      <th>match_id</th>\n",
       "      <th>inning</th>\n",
       "      <th>batting_team</th>\n",
       "      <th>bowling_team</th>\n",
       "      <th>over</th>\n",
       "      <th>ball</th>\n",
       "      <th>batsman</th>\n",
       "      <th>non_striker</th>\n",
       "      <th>bowler</th>\n",
       "      <th>is_super_over</th>\n",
       "      <th>...</th>\n",
       "      <th>bye_runs</th>\n",
       "      <th>legbye_runs</th>\n",
       "      <th>noball_runs</th>\n",
       "      <th>penalty_runs</th>\n",
       "      <th>batsman_runs</th>\n",
       "      <th>extra_runs</th>\n",
       "      <th>total_runs</th>\n",
       "      <th>player_dismissed</th>\n",
       "      <th>dismissal_kind</th>\n",
       "      <th>fielder</th>\n",
       "    </tr>\n",
       "  </thead>\n",
       "  <tbody>\n",
       "    <tr>\n",
       "      <td>52178</td>\n",
       "      <td>221</td>\n",
       "      <td>1</td>\n",
       "      <td>Mumbai Indians</td>\n",
       "      <td>Delhi Daredevils</td>\n",
       "      <td>4</td>\n",
       "      <td>1</td>\n",
       "      <td>SR Tendulkar</td>\n",
       "      <td>C Madan</td>\n",
       "      <td>PJ Sangwan</td>\n",
       "      <td>0</td>\n",
       "      <td>...</td>\n",
       "      <td>0</td>\n",
       "      <td>0</td>\n",
       "      <td>0</td>\n",
       "      <td>0</td>\n",
       "      <td>1</td>\n",
       "      <td>0</td>\n",
       "      <td>1</td>\n",
       "      <td>NaN</td>\n",
       "      <td>NaN</td>\n",
       "      <td>NaN</td>\n",
       "    </tr>\n",
       "    <tr>\n",
       "      <td>162805</td>\n",
       "      <td>7946</td>\n",
       "      <td>1</td>\n",
       "      <td>Rajasthan Royals</td>\n",
       "      <td>Royal Challengers Bangalore</td>\n",
       "      <td>4</td>\n",
       "      <td>4</td>\n",
       "      <td>AM Rahane</td>\n",
       "      <td>RA Tripathi</td>\n",
       "      <td>UT Yadav</td>\n",
       "      <td>0</td>\n",
       "      <td>...</td>\n",
       "      <td>0</td>\n",
       "      <td>0</td>\n",
       "      <td>0</td>\n",
       "      <td>0</td>\n",
       "      <td>4</td>\n",
       "      <td>0</td>\n",
       "      <td>4</td>\n",
       "      <td>NaN</td>\n",
       "      <td>NaN</td>\n",
       "      <td>NaN</td>\n",
       "    </tr>\n",
       "    <tr>\n",
       "      <td>162806</td>\n",
       "      <td>7946</td>\n",
       "      <td>1</td>\n",
       "      <td>Rajasthan Royals</td>\n",
       "      <td>Royal Challengers Bangalore</td>\n",
       "      <td>4</td>\n",
       "      <td>5</td>\n",
       "      <td>AM Rahane</td>\n",
       "      <td>RA Tripathi</td>\n",
       "      <td>UT Yadav</td>\n",
       "      <td>0</td>\n",
       "      <td>...</td>\n",
       "      <td>0</td>\n",
       "      <td>0</td>\n",
       "      <td>0</td>\n",
       "      <td>0</td>\n",
       "      <td>1</td>\n",
       "      <td>0</td>\n",
       "      <td>1</td>\n",
       "      <td>NaN</td>\n",
       "      <td>NaN</td>\n",
       "      <td>NaN</td>\n",
       "    </tr>\n",
       "    <tr>\n",
       "      <td>162870</td>\n",
       "      <td>7946</td>\n",
       "      <td>1</td>\n",
       "      <td>Rajasthan Royals</td>\n",
       "      <td>Royal Challengers Bangalore</td>\n",
       "      <td>13</td>\n",
       "      <td>5</td>\n",
       "      <td>RA Tripathi</td>\n",
       "      <td>AM Rahane</td>\n",
       "      <td>YS Chahal</td>\n",
       "      <td>0</td>\n",
       "      <td>...</td>\n",
       "      <td>0</td>\n",
       "      <td>0</td>\n",
       "      <td>0</td>\n",
       "      <td>0</td>\n",
       "      <td>0</td>\n",
       "      <td>0</td>\n",
       "      <td>0</td>\n",
       "      <td>NaN</td>\n",
       "      <td>NaN</td>\n",
       "      <td>NaN</td>\n",
       "    </tr>\n",
       "    <tr>\n",
       "      <td>162964</td>\n",
       "      <td>7946</td>\n",
       "      <td>2</td>\n",
       "      <td>Royal Challengers Bangalore</td>\n",
       "      <td>Rajasthan Royals</td>\n",
       "      <td>10</td>\n",
       "      <td>1</td>\n",
       "      <td>AB de Villiers</td>\n",
       "      <td>Mandeep Singh</td>\n",
       "      <td>I Sodhi</td>\n",
       "      <td>0</td>\n",
       "      <td>...</td>\n",
       "      <td>0</td>\n",
       "      <td>0</td>\n",
       "      <td>0</td>\n",
       "      <td>0</td>\n",
       "      <td>0</td>\n",
       "      <td>0</td>\n",
       "      <td>0</td>\n",
       "      <td>NaN</td>\n",
       "      <td>NaN</td>\n",
       "      <td>NaN</td>\n",
       "    </tr>\n",
       "  </tbody>\n",
       "</table>\n",
       "<p>5 rows × 21 columns</p>\n",
       "</div>"
      ],
      "text/plain": [
       "        match_id  inning                 batting_team  \\\n",
       "52178        221       1               Mumbai Indians   \n",
       "162805      7946       1             Rajasthan Royals   \n",
       "162806      7946       1             Rajasthan Royals   \n",
       "162870      7946       1             Rajasthan Royals   \n",
       "162964      7946       2  Royal Challengers Bangalore   \n",
       "\n",
       "                       bowling_team  over  ball         batsman  \\\n",
       "52178              Delhi Daredevils     4     1    SR Tendulkar   \n",
       "162805  Royal Challengers Bangalore     4     4       AM Rahane   \n",
       "162806  Royal Challengers Bangalore     4     5       AM Rahane   \n",
       "162870  Royal Challengers Bangalore    13     5     RA Tripathi   \n",
       "162964             Rajasthan Royals    10     1  AB de Villiers   \n",
       "\n",
       "          non_striker      bowler  is_super_over  ...  bye_runs  legbye_runs  \\\n",
       "52178         C Madan  PJ Sangwan              0  ...         0            0   \n",
       "162805    RA Tripathi    UT Yadav              0  ...         0            0   \n",
       "162806    RA Tripathi    UT Yadav              0  ...         0            0   \n",
       "162870      AM Rahane   YS Chahal              0  ...         0            0   \n",
       "162964  Mandeep Singh     I Sodhi              0  ...         0            0   \n",
       "\n",
       "        noball_runs  penalty_runs  batsman_runs  extra_runs  total_runs  \\\n",
       "52178             0             0             1           0           1   \n",
       "162805            0             0             4           0           4   \n",
       "162806            0             0             1           0           1   \n",
       "162870            0             0             0           0           0   \n",
       "162964            0             0             0           0           0   \n",
       "\n",
       "        player_dismissed dismissal_kind fielder  \n",
       "52178                NaN            NaN     NaN  \n",
       "162805               NaN            NaN     NaN  \n",
       "162806               NaN            NaN     NaN  \n",
       "162870               NaN            NaN     NaN  \n",
       "162964               NaN            NaN     NaN  \n",
       "\n",
       "[5 rows x 21 columns]"
      ]
     },
     "execution_count": 9,
     "metadata": {},
     "output_type": "execute_result"
    }
   ],
   "source": [
    "ball[ball.duplicated()].head()"
   ]
  },
  {
   "cell_type": "code",
   "execution_count": 10,
   "metadata": {},
   "outputs": [
    {
     "data": {
      "text/html": [
       "<div>\n",
       "<style scoped>\n",
       "    .dataframe tbody tr th:only-of-type {\n",
       "        vertical-align: middle;\n",
       "    }\n",
       "\n",
       "    .dataframe tbody tr th {\n",
       "        vertical-align: top;\n",
       "    }\n",
       "\n",
       "    .dataframe thead th {\n",
       "        text-align: right;\n",
       "    }\n",
       "</style>\n",
       "<table border=\"1\" class=\"dataframe\">\n",
       "  <thead>\n",
       "    <tr style=\"text-align: right;\">\n",
       "      <th></th>\n",
       "      <th>match_id</th>\n",
       "      <th>inning</th>\n",
       "      <th>batting_team</th>\n",
       "      <th>bowling_team</th>\n",
       "      <th>over</th>\n",
       "      <th>ball</th>\n",
       "      <th>batsman</th>\n",
       "      <th>non_striker</th>\n",
       "      <th>bowler</th>\n",
       "      <th>is_super_over</th>\n",
       "      <th>...</th>\n",
       "      <th>bye_runs</th>\n",
       "      <th>legbye_runs</th>\n",
       "      <th>noball_runs</th>\n",
       "      <th>penalty_runs</th>\n",
       "      <th>batsman_runs</th>\n",
       "      <th>extra_runs</th>\n",
       "      <th>total_runs</th>\n",
       "      <th>player_dismissed</th>\n",
       "      <th>dismissal_kind</th>\n",
       "      <th>fielder</th>\n",
       "    </tr>\n",
       "  </thead>\n",
       "  <tbody>\n",
       "    <tr>\n",
       "      <td>52169</td>\n",
       "      <td>221</td>\n",
       "      <td>1</td>\n",
       "      <td>Mumbai Indians</td>\n",
       "      <td>Delhi Daredevils</td>\n",
       "      <td>4</td>\n",
       "      <td>1</td>\n",
       "      <td>SR Tendulkar</td>\n",
       "      <td>C Madan</td>\n",
       "      <td>PJ Sangwan</td>\n",
       "      <td>0</td>\n",
       "      <td>...</td>\n",
       "      <td>0</td>\n",
       "      <td>0</td>\n",
       "      <td>0</td>\n",
       "      <td>0</td>\n",
       "      <td>1</td>\n",
       "      <td>0</td>\n",
       "      <td>1</td>\n",
       "      <td>NaN</td>\n",
       "      <td>NaN</td>\n",
       "      <td>NaN</td>\n",
       "    </tr>\n",
       "    <tr>\n",
       "      <td>52178</td>\n",
       "      <td>221</td>\n",
       "      <td>1</td>\n",
       "      <td>Mumbai Indians</td>\n",
       "      <td>Delhi Daredevils</td>\n",
       "      <td>4</td>\n",
       "      <td>1</td>\n",
       "      <td>SR Tendulkar</td>\n",
       "      <td>C Madan</td>\n",
       "      <td>PJ Sangwan</td>\n",
       "      <td>0</td>\n",
       "      <td>...</td>\n",
       "      <td>0</td>\n",
       "      <td>0</td>\n",
       "      <td>0</td>\n",
       "      <td>0</td>\n",
       "      <td>1</td>\n",
       "      <td>0</td>\n",
       "      <td>1</td>\n",
       "      <td>NaN</td>\n",
       "      <td>NaN</td>\n",
       "      <td>NaN</td>\n",
       "    </tr>\n",
       "  </tbody>\n",
       "</table>\n",
       "<p>2 rows × 21 columns</p>\n",
       "</div>"
      ],
      "text/plain": [
       "       match_id  inning    batting_team      bowling_team  over  ball  \\\n",
       "52169       221       1  Mumbai Indians  Delhi Daredevils     4     1   \n",
       "52178       221       1  Mumbai Indians  Delhi Daredevils     4     1   \n",
       "\n",
       "            batsman non_striker      bowler  is_super_over  ...  bye_runs  \\\n",
       "52169  SR Tendulkar     C Madan  PJ Sangwan              0  ...         0   \n",
       "52178  SR Tendulkar     C Madan  PJ Sangwan              0  ...         0   \n",
       "\n",
       "       legbye_runs  noball_runs  penalty_runs  batsman_runs  extra_runs  \\\n",
       "52169            0            0             0             1           0   \n",
       "52178            0            0             0             1           0   \n",
       "\n",
       "       total_runs  player_dismissed dismissal_kind fielder  \n",
       "52169           1               NaN            NaN     NaN  \n",
       "52178           1               NaN            NaN     NaN  \n",
       "\n",
       "[2 rows x 21 columns]"
      ]
     },
     "execution_count": 10,
     "metadata": {},
     "output_type": "execute_result"
    }
   ],
   "source": [
    "ball.query('match_id==221 & inning==1 & over==4 & ball==1')"
   ]
  },
  {
   "cell_type": "markdown",
   "metadata": {},
   "source": [
    "So these duplicate values need to be removed as they dont add any value."
   ]
  },
  {
   "cell_type": "code",
   "execution_count": 11,
   "metadata": {},
   "outputs": [],
   "source": [
    "ball.drop_duplicates(inplace= True)"
   ]
  },
  {
   "cell_type": "markdown",
   "metadata": {},
   "source": [
    "### Renaming Franchise team names\n",
    "Some teams like Deccan Chargers/ Sunrisers Hyderabad can be grouped together as they were the same teams."
   ]
  },
  {
   "cell_type": "code",
   "execution_count": 12,
   "metadata": {},
   "outputs": [],
   "source": [
    "# Replacing Franchise names\n",
    "ball.replace({'Sunrisers Hyderabad':'Hyderabad (Sunriser/Chargers)','Deccan Chargers':'Hyderabad (Sunriser/Chargers)',\\\n",
    "'Rising Pune Supergiants':'Pune (Supergiant/ Warriors)','Delhi Daredevils':'Delhi (Capitals/ Daredevils)',\\\n",
    "'Delhi Capitals':'Delhi (Capitals/ Daredevils)','Pune Warriors':'Pune (Supergiant/ Warriors)',\n",
    "'Rising Pune Supergiant':'Pune (Supergiant/ Warriors)'}, inplace= True)"
   ]
  },
  {
   "cell_type": "code",
   "execution_count": 13,
   "metadata": {},
   "outputs": [
    {
     "data": {
      "text/plain": [
       "array(['Hyderabad (Sunriser/Chargers)', 'Royal Challengers Bangalore',\n",
       "       'Mumbai Indians', 'Pune (Supergiant/ Warriors)', 'Gujarat Lions',\n",
       "       'Kolkata Knight Riders', 'Kings XI Punjab',\n",
       "       'Delhi (Capitals/ Daredevils)', 'Chennai Super Kings',\n",
       "       'Rajasthan Royals', 'Kochi Tuskers Kerala'], dtype=object)"
      ]
     },
     "execution_count": 13,
     "metadata": {},
     "output_type": "execute_result"
    }
   ],
   "source": [
    "ball.batting_team.unique()"
   ]
  },
  {
   "cell_type": "code",
   "execution_count": 14,
   "metadata": {},
   "outputs": [],
   "source": [
    "match.replace({'Sunrisers Hyderabad':'Hyderabad (Sunriser/Chargers)','Deccan Chargers':'Hyderabad (Sunriser/Chargers)',\\\n",
    "'Rising Pune Supergiants':'Pune (Supergiant/ Warriors)','Delhi Daredevils':'Delhi (Capitals/ Daredevils)',\\\n",
    "'Delhi Capitals':'Delhi (Capitals/ Daredevils)','Pune Warriors':'Pune (Supergiant/ Warriors)',\n",
    "'Rising Pune Supergiant':'Pune (Supergiant/ Warriors)'}, inplace= True)"
   ]
  },
  {
   "cell_type": "code",
   "execution_count": 15,
   "metadata": {},
   "outputs": [
    {
     "data": {
      "text/plain": [
       "11"
      ]
     },
     "execution_count": 15,
     "metadata": {},
     "output_type": "execute_result"
    }
   ],
   "source": [
    "match.team2.nunique()"
   ]
  },
  {
   "cell_type": "markdown",
   "metadata": {},
   "source": [
    "### Creating summary dataframes from ball dataframe"
   ]
  },
  {
   "cell_type": "code",
   "execution_count": 16,
   "metadata": {},
   "outputs": [],
   "source": [
    "# Creating a new df summarizing total runs and wickets that fell in each innings\n",
    "\n",
    "summary= ball.groupby(by=['match_id','inning','batting_team']).sum()['total_runs'].reset_index()\n",
    "temp = ball.groupby(by=['match_id','inning','batting_team']).count()['player_dismissed'].reset_index()\n",
    "\n",
    "summary= pd.merge(summary, temp,how='outer', on= ['match_id','inning', 'batting_team'])"
   ]
  },
  {
   "cell_type": "code",
   "execution_count": 17,
   "metadata": {},
   "outputs": [],
   "source": [
    "# Creating a new column combining the over and the ball bowled\n",
    "ball['over_ball']= ball['over']+ball['ball']/10"
   ]
  },
  {
   "cell_type": "code",
   "execution_count": 18,
   "metadata": {},
   "outputs": [
    {
     "data": {
      "text/html": [
       "<div>\n",
       "<style scoped>\n",
       "    .dataframe tbody tr th:only-of-type {\n",
       "        vertical-align: middle;\n",
       "    }\n",
       "\n",
       "    .dataframe tbody tr th {\n",
       "        vertical-align: top;\n",
       "    }\n",
       "\n",
       "    .dataframe thead th {\n",
       "        text-align: right;\n",
       "    }\n",
       "</style>\n",
       "<table border=\"1\" class=\"dataframe\">\n",
       "  <thead>\n",
       "    <tr style=\"text-align: right;\">\n",
       "      <th></th>\n",
       "      <th>match_id</th>\n",
       "      <th>inning</th>\n",
       "      <th>batting_team</th>\n",
       "      <th>total_runs</th>\n",
       "      <th>player_dismissed</th>\n",
       "      <th>over_ball</th>\n",
       "    </tr>\n",
       "  </thead>\n",
       "  <tbody>\n",
       "    <tr>\n",
       "      <td>0</td>\n",
       "      <td>1</td>\n",
       "      <td>1</td>\n",
       "      <td>Hyderabad (Sunriser/Chargers)</td>\n",
       "      <td>207</td>\n",
       "      <td>4</td>\n",
       "      <td>20.6</td>\n",
       "    </tr>\n",
       "    <tr>\n",
       "      <td>1</td>\n",
       "      <td>1</td>\n",
       "      <td>2</td>\n",
       "      <td>Royal Challengers Bangalore</td>\n",
       "      <td>172</td>\n",
       "      <td>10</td>\n",
       "      <td>20.4</td>\n",
       "    </tr>\n",
       "  </tbody>\n",
       "</table>\n",
       "</div>"
      ],
      "text/plain": [
       "   match_id  inning                   batting_team  total_runs  \\\n",
       "0         1       1  Hyderabad (Sunriser/Chargers)         207   \n",
       "1         1       2    Royal Challengers Bangalore         172   \n",
       "\n",
       "   player_dismissed  over_ball  \n",
       "0                 4       20.6  \n",
       "1                10       20.4  "
      ]
     },
     "execution_count": 18,
     "metadata": {},
     "output_type": "execute_result"
    }
   ],
   "source": [
    "# Merging the total balls used in the innings with the summary data\n",
    "temp= ball.groupby(by=['match_id','inning','batting_team']).max()['over_ball'].reset_index()\n",
    "\n",
    "summary= pd.merge(summary, temp,how='outer', on= ['match_id','inning', 'batting_team'])\n",
    "summary.head(2)"
   ]
  },
  {
   "cell_type": "code",
   "execution_count": 19,
   "metadata": {},
   "outputs": [
    {
     "data": {
      "text/html": [
       "<div>\n",
       "<style scoped>\n",
       "    .dataframe tbody tr th:only-of-type {\n",
       "        vertical-align: middle;\n",
       "    }\n",
       "\n",
       "    .dataframe tbody tr th {\n",
       "        vertical-align: top;\n",
       "    }\n",
       "\n",
       "    .dataframe thead th {\n",
       "        text-align: right;\n",
       "    }\n",
       "</style>\n",
       "<table border=\"1\" class=\"dataframe\">\n",
       "  <thead>\n",
       "    <tr style=\"text-align: right;\">\n",
       "      <th></th>\n",
       "      <th>match_id</th>\n",
       "      <th>runs_1</th>\n",
       "      <th>runs_2</th>\n",
       "      <th>overs_1</th>\n",
       "      <th>overs_2</th>\n",
       "      <th>wickets_1</th>\n",
       "      <th>wickets_2</th>\n",
       "    </tr>\n",
       "  </thead>\n",
       "  <tbody>\n",
       "    <tr>\n",
       "      <td>0</td>\n",
       "      <td>1</td>\n",
       "      <td>207</td>\n",
       "      <td>172</td>\n",
       "      <td>20.6</td>\n",
       "      <td>20.4</td>\n",
       "      <td>4</td>\n",
       "      <td>10</td>\n",
       "    </tr>\n",
       "    <tr>\n",
       "      <td>1</td>\n",
       "      <td>2</td>\n",
       "      <td>184</td>\n",
       "      <td>187</td>\n",
       "      <td>20.7</td>\n",
       "      <td>20.5</td>\n",
       "      <td>8</td>\n",
       "      <td>3</td>\n",
       "    </tr>\n",
       "    <tr>\n",
       "      <td>2</td>\n",
       "      <td>3</td>\n",
       "      <td>183</td>\n",
       "      <td>184</td>\n",
       "      <td>20.6</td>\n",
       "      <td>15.7</td>\n",
       "      <td>4</td>\n",
       "      <td>0</td>\n",
       "    </tr>\n",
       "    <tr>\n",
       "      <td>3</td>\n",
       "      <td>4</td>\n",
       "      <td>163</td>\n",
       "      <td>164</td>\n",
       "      <td>20.6</td>\n",
       "      <td>19.7</td>\n",
       "      <td>6</td>\n",
       "      <td>4</td>\n",
       "    </tr>\n",
       "    <tr>\n",
       "      <td>4</td>\n",
       "      <td>5</td>\n",
       "      <td>157</td>\n",
       "      <td>142</td>\n",
       "      <td>20.6</td>\n",
       "      <td>20.6</td>\n",
       "      <td>8</td>\n",
       "      <td>9</td>\n",
       "    </tr>\n",
       "  </tbody>\n",
       "</table>\n",
       "</div>"
      ],
      "text/plain": [
       "   match_id runs_1 runs_2 overs_1 overs_2 wickets_1 wickets_2\n",
       "0         1    207    172    20.6    20.4         4        10\n",
       "1         2    184    187    20.7    20.5         8         3\n",
       "2         3    183    184    20.6    15.7         4         0\n",
       "3         4    163    164    20.6    19.7         6         4\n",
       "4         5    157    142    20.6    20.6         8         9"
      ]
     },
     "execution_count": 19,
     "metadata": {},
     "output_type": "execute_result"
    }
   ],
   "source": [
    "# Changing the matrix into a long format\n",
    "s1 = summary.melt(id_vars=['match_id','inning',]).query('variable==\"total_runs\" & inning==1')[['match_id','value']]\n",
    "s2 =summary.melt(id_vars=['match_id','inning',]).query('variable==\"total_runs\" & inning==2')[['match_id','value']]\n",
    "temp= pd.merge(s1, s2, on='match_id', how='inner')\n",
    "\n",
    "s1= summary.melt(id_vars=['match_id','inning',]).query('variable==\"over_ball\" & inning==1')[['match_id','value']]\n",
    "s2=summary.melt(id_vars=['match_id','inning',]).query('variable==\"over_ball\" & inning==2')[['match_id','value']]\n",
    "temp2= pd.merge(s1,s2,on='match_id', how='inner')\n",
    "\n",
    "s1= summary.melt(id_vars=['match_id','inning',]).query('variable==\"player_dismissed\" & inning==1')[['match_id','value']]\n",
    "s2=summary.melt(id_vars=['match_id','inning',]).query('variable==\"player_dismissed\" & inning==2')[['match_id','value']]\n",
    "temp3 = pd.merge(s1,s2,on='match_id', how='inner')\n",
    "\n",
    "summary = pd.merge(pd.merge(temp,temp2, on= 'match_id', how='inner'), temp3, on='match_id', how='inner')\n",
    "\n",
    "summary.rename(columns={'value_x_x':'runs_1', 'value_y_x':'runs_2','value_x_y':'overs_1','value_y_y':'overs_2',\\\n",
    "    'value_x':'wickets_1', 'value_y':'wickets_2'}, inplace= True)\n",
    "summary.head()"
   ]
  },
  {
   "cell_type": "code",
   "execution_count": 20,
   "metadata": {},
   "outputs": [],
   "source": [
    "# Merging the summary data with match info data\n",
    "match= pd.merge(match, summary, right_on= 'match_id', left_on= 'id', how='left')"
   ]
  },
  {
   "cell_type": "markdown",
   "metadata": {},
   "source": [
    "### Droppping umpire information as it is not essential for our analysis"
   ]
  },
  {
   "cell_type": "code",
   "execution_count": 21,
   "metadata": {},
   "outputs": [],
   "source": [
    "match.drop(columns=['umpire1', 'umpire2', 'umpire3'], inplace= True)"
   ]
  },
  {
   "cell_type": "code",
   "execution_count": 22,
   "metadata": {},
   "outputs": [
    {
     "data": {
      "text/html": [
       "<div>\n",
       "<style scoped>\n",
       "    .dataframe tbody tr th:only-of-type {\n",
       "        vertical-align: middle;\n",
       "    }\n",
       "\n",
       "    .dataframe tbody tr th {\n",
       "        vertical-align: top;\n",
       "    }\n",
       "\n",
       "    .dataframe thead th {\n",
       "        text-align: right;\n",
       "    }\n",
       "</style>\n",
       "<table border=\"1\" class=\"dataframe\">\n",
       "  <thead>\n",
       "    <tr style=\"text-align: right;\">\n",
       "      <th></th>\n",
       "      <th>id</th>\n",
       "      <th>season</th>\n",
       "      <th>city</th>\n",
       "      <th>date</th>\n",
       "      <th>team1</th>\n",
       "      <th>team2</th>\n",
       "      <th>toss_winner</th>\n",
       "      <th>toss_decision</th>\n",
       "      <th>result</th>\n",
       "      <th>dl_applied</th>\n",
       "      <th>...</th>\n",
       "      <th>win_by_wickets</th>\n",
       "      <th>player_of_match</th>\n",
       "      <th>venue</th>\n",
       "      <th>match_id</th>\n",
       "      <th>runs_1</th>\n",
       "      <th>runs_2</th>\n",
       "      <th>overs_1</th>\n",
       "      <th>overs_2</th>\n",
       "      <th>wickets_1</th>\n",
       "      <th>wickets_2</th>\n",
       "    </tr>\n",
       "  </thead>\n",
       "  <tbody>\n",
       "    <tr>\n",
       "      <td>0</td>\n",
       "      <td>1</td>\n",
       "      <td>2017</td>\n",
       "      <td>Hyderabad</td>\n",
       "      <td>2017-04-05</td>\n",
       "      <td>Hyderabad (Sunriser/Chargers)</td>\n",
       "      <td>Royal Challengers Bangalore</td>\n",
       "      <td>Royal Challengers Bangalore</td>\n",
       "      <td>field</td>\n",
       "      <td>normal</td>\n",
       "      <td>0</td>\n",
       "      <td>...</td>\n",
       "      <td>0</td>\n",
       "      <td>Yuvraj Singh</td>\n",
       "      <td>Rajiv Gandhi International Stadium, Uppal</td>\n",
       "      <td>1.0</td>\n",
       "      <td>207</td>\n",
       "      <td>172</td>\n",
       "      <td>20.6</td>\n",
       "      <td>20.4</td>\n",
       "      <td>4</td>\n",
       "      <td>10</td>\n",
       "    </tr>\n",
       "    <tr>\n",
       "      <td>1</td>\n",
       "      <td>2</td>\n",
       "      <td>2017</td>\n",
       "      <td>Pune</td>\n",
       "      <td>2017-04-06</td>\n",
       "      <td>Mumbai Indians</td>\n",
       "      <td>Pune (Supergiant/ Warriors)</td>\n",
       "      <td>Pune (Supergiant/ Warriors)</td>\n",
       "      <td>field</td>\n",
       "      <td>normal</td>\n",
       "      <td>0</td>\n",
       "      <td>...</td>\n",
       "      <td>7</td>\n",
       "      <td>SPD Smith</td>\n",
       "      <td>Maharashtra Cricket Association Stadium</td>\n",
       "      <td>2.0</td>\n",
       "      <td>184</td>\n",
       "      <td>187</td>\n",
       "      <td>20.7</td>\n",
       "      <td>20.5</td>\n",
       "      <td>8</td>\n",
       "      <td>3</td>\n",
       "    </tr>\n",
       "  </tbody>\n",
       "</table>\n",
       "<p>2 rows × 22 columns</p>\n",
       "</div>"
      ],
      "text/plain": [
       "   id  season       city        date                          team1  \\\n",
       "0   1    2017  Hyderabad  2017-04-05  Hyderabad (Sunriser/Chargers)   \n",
       "1   2    2017       Pune  2017-04-06                 Mumbai Indians   \n",
       "\n",
       "                         team2                  toss_winner toss_decision  \\\n",
       "0  Royal Challengers Bangalore  Royal Challengers Bangalore         field   \n",
       "1  Pune (Supergiant/ Warriors)  Pune (Supergiant/ Warriors)         field   \n",
       "\n",
       "   result  dl_applied  ... win_by_wickets  player_of_match  \\\n",
       "0  normal           0  ...              0     Yuvraj Singh   \n",
       "1  normal           0  ...              7        SPD Smith   \n",
       "\n",
       "                                       venue match_id runs_1  runs_2 overs_1  \\\n",
       "0  Rajiv Gandhi International Stadium, Uppal      1.0    207     172    20.6   \n",
       "1    Maharashtra Cricket Association Stadium      2.0    184     187    20.7   \n",
       "\n",
       "  overs_2 wickets_1 wickets_2  \n",
       "0    20.4         4        10  \n",
       "1    20.5         8         3  \n",
       "\n",
       "[2 rows x 22 columns]"
      ]
     },
     "execution_count": 22,
     "metadata": {},
     "output_type": "execute_result"
    }
   ],
   "source": [
    "match.head(2)"
   ]
  },
  {
   "cell_type": "markdown",
   "metadata": {},
   "source": [
    "### Creating a batsman summary dataframe"
   ]
  },
  {
   "cell_type": "code",
   "execution_count": 23,
   "metadata": {},
   "outputs": [
    {
     "data": {
      "text/html": [
       "<div>\n",
       "<style scoped>\n",
       "    .dataframe tbody tr th:only-of-type {\n",
       "        vertical-align: middle;\n",
       "    }\n",
       "\n",
       "    .dataframe tbody tr th {\n",
       "        vertical-align: top;\n",
       "    }\n",
       "\n",
       "    .dataframe thead th {\n",
       "        text-align: right;\n",
       "    }\n",
       "</style>\n",
       "<table border=\"1\" class=\"dataframe\">\n",
       "  <thead>\n",
       "    <tr style=\"text-align: right;\">\n",
       "      <th></th>\n",
       "      <th>batsman</th>\n",
       "      <th>total_runs</th>\n",
       "      <th>ball</th>\n",
       "      <th>4s</th>\n",
       "      <th>6s</th>\n",
       "    </tr>\n",
       "  </thead>\n",
       "  <tbody>\n",
       "    <tr>\n",
       "      <td>0</td>\n",
       "      <td>A Ashish Reddy</td>\n",
       "      <td>280</td>\n",
       "      <td>196</td>\n",
       "      <td>16.0</td>\n",
       "      <td>15.0</td>\n",
       "    </tr>\n",
       "    <tr>\n",
       "      <td>1</td>\n",
       "      <td>A Chandila</td>\n",
       "      <td>4</td>\n",
       "      <td>7</td>\n",
       "      <td>NaN</td>\n",
       "      <td>NaN</td>\n",
       "    </tr>\n",
       "    <tr>\n",
       "      <td>2</td>\n",
       "      <td>A Chopra</td>\n",
       "      <td>53</td>\n",
       "      <td>75</td>\n",
       "      <td>7.0</td>\n",
       "      <td>NaN</td>\n",
       "    </tr>\n",
       "  </tbody>\n",
       "</table>\n",
       "</div>"
      ],
      "text/plain": [
       "          batsman  total_runs  ball    4s    6s\n",
       "0  A Ashish Reddy         280   196  16.0  15.0\n",
       "1      A Chandila           4     7   NaN   NaN\n",
       "2        A Chopra          53    75   7.0   NaN"
      ]
     },
     "execution_count": 23,
     "metadata": {},
     "output_type": "execute_result"
    }
   ],
   "source": [
    "# Total runs scored by each batsman\n",
    "batsman= ball.groupby(by='batsman').sum()['batsman_runs'].reset_index()\n",
    "\n",
    "#Total balls played by each batsman\n",
    "temp = ball.groupby(by='batsman').count()['ball']\n",
    "batsman= pd.merge(batsman, temp, how='outer',on='batsman')\n",
    "\n",
    "# Total 4s hit\n",
    "temp = ball.query('batsman_runs==4').groupby(by='batsman').count()['batsman_runs'].reset_index()\n",
    "batsman = pd.merge(batsman, temp, how='outer',on='batsman')\n",
    "\n",
    "#Total 6s hit\n",
    "temp= ball.query('batsman_runs==6').groupby(by='batsman').count()['batsman_runs'].reset_index()\n",
    "batsman = pd.merge(batsman, temp, how='outer',on='batsman')\n",
    "\n",
    "batsman.rename(columns={'batsman_runs_x':'total_runs','batsman_runs_y':'4s', 'batsman_runs':'6s'}, inplace= True)\n",
    "batsman.head(3)"
   ]
  },
  {
   "cell_type": "code",
   "execution_count": 24,
   "metadata": {},
   "outputs": [
    {
     "data": {
      "text/html": [
       "<div>\n",
       "<style scoped>\n",
       "    .dataframe tbody tr th:only-of-type {\n",
       "        vertical-align: middle;\n",
       "    }\n",
       "\n",
       "    .dataframe tbody tr th {\n",
       "        vertical-align: top;\n",
       "    }\n",
       "\n",
       "    .dataframe thead th {\n",
       "        text-align: right;\n",
       "    }\n",
       "</style>\n",
       "<table border=\"1\" class=\"dataframe\">\n",
       "  <thead>\n",
       "    <tr style=\"text-align: right;\">\n",
       "      <th></th>\n",
       "      <th>batsman</th>\n",
       "      <th>total_runs</th>\n",
       "      <th>ball</th>\n",
       "      <th>4s</th>\n",
       "      <th>6s</th>\n",
       "      <th>strike_rate</th>\n",
       "    </tr>\n",
       "  </thead>\n",
       "  <tbody>\n",
       "    <tr>\n",
       "      <td>0</td>\n",
       "      <td>A Ashish Reddy</td>\n",
       "      <td>280</td>\n",
       "      <td>196</td>\n",
       "      <td>16.0</td>\n",
       "      <td>15.0</td>\n",
       "      <td>142.857143</td>\n",
       "    </tr>\n",
       "    <tr>\n",
       "      <td>1</td>\n",
       "      <td>A Chandila</td>\n",
       "      <td>4</td>\n",
       "      <td>7</td>\n",
       "      <td>NaN</td>\n",
       "      <td>NaN</td>\n",
       "      <td>57.142857</td>\n",
       "    </tr>\n",
       "  </tbody>\n",
       "</table>\n",
       "</div>"
      ],
      "text/plain": [
       "          batsman  total_runs  ball    4s    6s  strike_rate\n",
       "0  A Ashish Reddy         280   196  16.0  15.0   142.857143\n",
       "1      A Chandila           4     7   NaN   NaN    57.142857"
      ]
     },
     "execution_count": 24,
     "metadata": {},
     "output_type": "execute_result"
    }
   ],
   "source": [
    "# Calculating the strike rate\n",
    "batsman['strike_rate']= (batsman.total_runs/ batsman.ball)*100\n",
    "batsman.head(2)"
   ]
  },
  {
   "cell_type": "code",
   "execution_count": 25,
   "metadata": {},
   "outputs": [
    {
     "data": {
      "text/html": [
       "<div>\n",
       "<style scoped>\n",
       "    .dataframe tbody tr th:only-of-type {\n",
       "        vertical-align: middle;\n",
       "    }\n",
       "\n",
       "    .dataframe tbody tr th {\n",
       "        vertical-align: top;\n",
       "    }\n",
       "\n",
       "    .dataframe thead th {\n",
       "        text-align: right;\n",
       "    }\n",
       "</style>\n",
       "<table border=\"1\" class=\"dataframe\">\n",
       "  <thead>\n",
       "    <tr style=\"text-align: right;\">\n",
       "      <th></th>\n",
       "      <th>batsman</th>\n",
       "      <th>total_runs</th>\n",
       "      <th>ball</th>\n",
       "      <th>4s</th>\n",
       "      <th>6s</th>\n",
       "      <th>strike_rate</th>\n",
       "      <th>boundary_percent</th>\n",
       "    </tr>\n",
       "  </thead>\n",
       "  <tbody>\n",
       "    <tr>\n",
       "      <td>0</td>\n",
       "      <td>A Ashish Reddy</td>\n",
       "      <td>280</td>\n",
       "      <td>196</td>\n",
       "      <td>16.0</td>\n",
       "      <td>15.0</td>\n",
       "      <td>142.857143</td>\n",
       "      <td>0.55</td>\n",
       "    </tr>\n",
       "  </tbody>\n",
       "</table>\n",
       "</div>"
      ],
      "text/plain": [
       "          batsman  total_runs  ball    4s    6s  strike_rate  boundary_percent\n",
       "0  A Ashish Reddy         280   196  16.0  15.0   142.857143              0.55"
      ]
     },
     "execution_count": 25,
     "metadata": {},
     "output_type": "execute_result"
    }
   ],
   "source": [
    "# Calculating percent of the runs scored by boundries\n",
    "batsman['boundary_percent']= (batsman['4s']*4+ batsman['6s']*6)/ batsman.total_runs\n",
    "batsman.head(1)"
   ]
  },
  {
   "cell_type": "code",
   "execution_count": 26,
   "metadata": {},
   "outputs": [
    {
     "data": {
      "text/html": [
       "<div>\n",
       "<style scoped>\n",
       "    .dataframe tbody tr th:only-of-type {\n",
       "        vertical-align: middle;\n",
       "    }\n",
       "\n",
       "    .dataframe tbody tr th {\n",
       "        vertical-align: top;\n",
       "    }\n",
       "\n",
       "    .dataframe thead th {\n",
       "        text-align: right;\n",
       "    }\n",
       "</style>\n",
       "<table border=\"1\" class=\"dataframe\">\n",
       "  <thead>\n",
       "    <tr style=\"text-align: right;\">\n",
       "      <th></th>\n",
       "      <th>match_id</th>\n",
       "      <th>batsman</th>\n",
       "      <th>opening_runs</th>\n",
       "      <th>opening_balls</th>\n",
       "    </tr>\n",
       "  </thead>\n",
       "  <tbody>\n",
       "    <tr>\n",
       "      <td>0</td>\n",
       "      <td>1</td>\n",
       "      <td>CH Gayle</td>\n",
       "      <td>32.0</td>\n",
       "      <td>23.0</td>\n",
       "    </tr>\n",
       "    <tr>\n",
       "      <td>1</td>\n",
       "      <td>1</td>\n",
       "      <td>DA Warner</td>\n",
       "      <td>14.0</td>\n",
       "      <td>9.0</td>\n",
       "    </tr>\n",
       "    <tr>\n",
       "      <td>2</td>\n",
       "      <td>1</td>\n",
       "      <td>Mandeep Singh</td>\n",
       "      <td>24.0</td>\n",
       "      <td>16.0</td>\n",
       "    </tr>\n",
       "    <tr>\n",
       "      <td>3</td>\n",
       "      <td>1</td>\n",
       "      <td>S Dhawan</td>\n",
       "      <td>40.0</td>\n",
       "      <td>31.0</td>\n",
       "    </tr>\n",
       "    <tr>\n",
       "      <td>4</td>\n",
       "      <td>2</td>\n",
       "      <td>AM Rahane</td>\n",
       "      <td>60.0</td>\n",
       "      <td>34.0</td>\n",
       "    </tr>\n",
       "  </tbody>\n",
       "</table>\n",
       "</div>"
      ],
      "text/plain": [
       "   match_id        batsman  opening_runs  opening_balls\n",
       "0         1       CH Gayle          32.0           23.0\n",
       "1         1      DA Warner          14.0            9.0\n",
       "2         1  Mandeep Singh          24.0           16.0\n",
       "3         1       S Dhawan          40.0           31.0\n",
       "4         2      AM Rahane          60.0           34.0"
      ]
     },
     "execution_count": 26,
     "metadata": {},
     "output_type": "execute_result"
    }
   ],
   "source": [
    "# Calculating the runs scored by openers in each match\n",
    "#calculating the runs scored by each batsman in each match\n",
    "a= ball.groupby(by=['match_id','batsman']).sum()['batsman_runs']\n",
    "b= ball.groupby(by=['match_id','batsman']).count()['total_runs']\n",
    "opening = pd.DataFrame(data=[a,b]).transpose().reset_index()\n",
    "\n",
    "# finding which batsmen opened\n",
    "opening2= ball.query('over==1 & ball==1')[['match_id','batsman','non_striker']].melt(id_vars='match_id')\n",
    "opening = pd.merge(opening, opening2, how='right',left_on =['match_id','batsman'], right_on=['match_id','value'])\n",
    "\n",
    "#renaming columns\n",
    "opening.rename(columns={'total_runs':'opening_balls', 'batsman_runs':'opening_runs'}, inplace= True)\n",
    "#dropping redundant columns\n",
    "opening.drop(columns=['variable','value'], inplace= True)\n",
    "opening.head()"
   ]
  },
  {
   "cell_type": "code",
   "execution_count": 27,
   "metadata": {},
   "outputs": [
    {
     "data": {
      "text/html": [
       "<div>\n",
       "<style scoped>\n",
       "    .dataframe tbody tr th:only-of-type {\n",
       "        vertical-align: middle;\n",
       "    }\n",
       "\n",
       "    .dataframe tbody tr th {\n",
       "        vertical-align: top;\n",
       "    }\n",
       "\n",
       "    .dataframe thead th {\n",
       "        text-align: right;\n",
       "    }\n",
       "</style>\n",
       "<table border=\"1\" class=\"dataframe\">\n",
       "  <thead>\n",
       "    <tr style=\"text-align: right;\">\n",
       "      <th></th>\n",
       "      <th>batsman</th>\n",
       "      <th>total_runs</th>\n",
       "      <th>ball</th>\n",
       "      <th>4s</th>\n",
       "      <th>6s</th>\n",
       "      <th>strike_rate</th>\n",
       "      <th>boundary_percent</th>\n",
       "      <th>opening_runs</th>\n",
       "      <th>opening_balls</th>\n",
       "    </tr>\n",
       "  </thead>\n",
       "  <tbody>\n",
       "    <tr>\n",
       "      <td>0</td>\n",
       "      <td>A Ashish Reddy</td>\n",
       "      <td>280</td>\n",
       "      <td>196</td>\n",
       "      <td>16.0</td>\n",
       "      <td>15.0</td>\n",
       "      <td>142.857143</td>\n",
       "      <td>0.55</td>\n",
       "      <td>NaN</td>\n",
       "      <td>NaN</td>\n",
       "    </tr>\n",
       "    <tr>\n",
       "      <td>1</td>\n",
       "      <td>A Chandila</td>\n",
       "      <td>4</td>\n",
       "      <td>7</td>\n",
       "      <td>NaN</td>\n",
       "      <td>NaN</td>\n",
       "      <td>57.142857</td>\n",
       "      <td>NaN</td>\n",
       "      <td>NaN</td>\n",
       "      <td>NaN</td>\n",
       "    </tr>\n",
       "    <tr>\n",
       "      <td>2</td>\n",
       "      <td>A Chopra</td>\n",
       "      <td>53</td>\n",
       "      <td>75</td>\n",
       "      <td>7.0</td>\n",
       "      <td>NaN</td>\n",
       "      <td>70.666667</td>\n",
       "      <td>NaN</td>\n",
       "      <td>40.0</td>\n",
       "      <td>52.0</td>\n",
       "    </tr>\n",
       "  </tbody>\n",
       "</table>\n",
       "</div>"
      ],
      "text/plain": [
       "          batsman  total_runs  ball    4s    6s  strike_rate  \\\n",
       "0  A Ashish Reddy         280   196  16.0  15.0   142.857143   \n",
       "1      A Chandila           4     7   NaN   NaN    57.142857   \n",
       "2        A Chopra          53    75   7.0   NaN    70.666667   \n",
       "\n",
       "   boundary_percent  opening_runs  opening_balls  \n",
       "0              0.55           NaN            NaN  \n",
       "1               NaN           NaN            NaN  \n",
       "2               NaN          40.0           52.0  "
      ]
     },
     "execution_count": 27,
     "metadata": {},
     "output_type": "execute_result"
    }
   ],
   "source": [
    "# Aggregating the runs scored by openers\n",
    "opening= opening.groupby(by='batsman').sum()[['opening_runs','opening_balls']].reset_index()\n",
    "\n",
    "batsman= pd.merge(batsman, opening, on='batsman', how='left')\n",
    "batsman.head(3)"
   ]
  },
  {
   "cell_type": "code",
   "execution_count": null,
   "metadata": {},
   "outputs": [],
   "source": []
  },
  {
   "cell_type": "markdown",
   "metadata": {},
   "source": [
    "### Creating a bowler summary dataframe"
   ]
  },
  {
   "cell_type": "code",
   "execution_count": 28,
   "metadata": {},
   "outputs": [
    {
     "data": {
      "text/plain": [
       "caught                   5348\n",
       "bowled                   1581\n",
       "run out                   852\n",
       "lbw                       540\n",
       "stumped                   278\n",
       "caught and bowled         211\n",
       "retired hurt               12\n",
       "hit wicket                 10\n",
       "obstructing the field       2\n",
       "Name: dismissal_kind, dtype: int64"
      ]
     },
     "execution_count": 28,
     "metadata": {},
     "output_type": "execute_result"
    }
   ],
   "source": [
    "ball.dismissal_kind.value_counts()"
   ]
  },
  {
   "cell_type": "markdown",
   "metadata": {},
   "source": [
    "For calculating the wickets picked by the bowler we need to exclude the run outs, retired hurt and obstructing the field. There are actually 2 dismissals for obstructing the field!!! <br>\n",
    "\n",
    "A quick Google search reveals that they were probable runouts but the batsmen (Yusuf Pathan and Amit Mishra) blocked the ball from hitting the stumps and hence were declared out."
   ]
  },
  {
   "cell_type": "code",
   "execution_count": 29,
   "metadata": {},
   "outputs": [
    {
     "data": {
      "text/html": [
       "<div>\n",
       "<style scoped>\n",
       "    .dataframe tbody tr th:only-of-type {\n",
       "        vertical-align: middle;\n",
       "    }\n",
       "\n",
       "    .dataframe tbody tr th {\n",
       "        vertical-align: top;\n",
       "    }\n",
       "\n",
       "    .dataframe thead th {\n",
       "        text-align: right;\n",
       "    }\n",
       "</style>\n",
       "<table border=\"1\" class=\"dataframe\">\n",
       "  <thead>\n",
       "    <tr style=\"text-align: right;\">\n",
       "      <th></th>\n",
       "      <th>match_id</th>\n",
       "      <th>inning</th>\n",
       "      <th>batting_team</th>\n",
       "      <th>bowling_team</th>\n",
       "      <th>over</th>\n",
       "      <th>ball</th>\n",
       "      <th>batsman</th>\n",
       "      <th>non_striker</th>\n",
       "      <th>bowler</th>\n",
       "      <th>is_super_over</th>\n",
       "      <th>...</th>\n",
       "      <th>legbye_runs</th>\n",
       "      <th>noball_runs</th>\n",
       "      <th>penalty_runs</th>\n",
       "      <th>batsman_runs</th>\n",
       "      <th>extra_runs</th>\n",
       "      <th>total_runs</th>\n",
       "      <th>player_dismissed</th>\n",
       "      <th>dismissal_kind</th>\n",
       "      <th>fielder</th>\n",
       "      <th>over_ball</th>\n",
       "    </tr>\n",
       "  </thead>\n",
       "  <tbody>\n",
       "    <tr>\n",
       "      <td>0</td>\n",
       "      <td>1</td>\n",
       "      <td>1</td>\n",
       "      <td>Hyderabad (Sunriser/Chargers)</td>\n",
       "      <td>Royal Challengers Bangalore</td>\n",
       "      <td>1</td>\n",
       "      <td>1</td>\n",
       "      <td>DA Warner</td>\n",
       "      <td>S Dhawan</td>\n",
       "      <td>TS Mills</td>\n",
       "      <td>0</td>\n",
       "      <td>...</td>\n",
       "      <td>0</td>\n",
       "      <td>0</td>\n",
       "      <td>0</td>\n",
       "      <td>0</td>\n",
       "      <td>0</td>\n",
       "      <td>0</td>\n",
       "      <td>NaN</td>\n",
       "      <td>NaN</td>\n",
       "      <td>NaN</td>\n",
       "      <td>1.1</td>\n",
       "    </tr>\n",
       "    <tr>\n",
       "      <td>1</td>\n",
       "      <td>1</td>\n",
       "      <td>1</td>\n",
       "      <td>Hyderabad (Sunriser/Chargers)</td>\n",
       "      <td>Royal Challengers Bangalore</td>\n",
       "      <td>1</td>\n",
       "      <td>2</td>\n",
       "      <td>DA Warner</td>\n",
       "      <td>S Dhawan</td>\n",
       "      <td>TS Mills</td>\n",
       "      <td>0</td>\n",
       "      <td>...</td>\n",
       "      <td>0</td>\n",
       "      <td>0</td>\n",
       "      <td>0</td>\n",
       "      <td>0</td>\n",
       "      <td>0</td>\n",
       "      <td>0</td>\n",
       "      <td>NaN</td>\n",
       "      <td>NaN</td>\n",
       "      <td>NaN</td>\n",
       "      <td>1.2</td>\n",
       "    </tr>\n",
       "  </tbody>\n",
       "</table>\n",
       "<p>2 rows × 22 columns</p>\n",
       "</div>"
      ],
      "text/plain": [
       "   match_id  inning                   batting_team  \\\n",
       "0         1       1  Hyderabad (Sunriser/Chargers)   \n",
       "1         1       1  Hyderabad (Sunriser/Chargers)   \n",
       "\n",
       "                  bowling_team  over  ball    batsman non_striker    bowler  \\\n",
       "0  Royal Challengers Bangalore     1     1  DA Warner    S Dhawan  TS Mills   \n",
       "1  Royal Challengers Bangalore     1     2  DA Warner    S Dhawan  TS Mills   \n",
       "\n",
       "   is_super_over  ...  legbye_runs  noball_runs  penalty_runs  batsman_runs  \\\n",
       "0              0  ...            0            0             0             0   \n",
       "1              0  ...            0            0             0             0   \n",
       "\n",
       "   extra_runs  total_runs  player_dismissed  dismissal_kind fielder over_ball  \n",
       "0           0           0               NaN             NaN     NaN       1.1  \n",
       "1           0           0               NaN             NaN     NaN       1.2  \n",
       "\n",
       "[2 rows x 22 columns]"
      ]
     },
     "execution_count": 29,
     "metadata": {},
     "output_type": "execute_result"
    }
   ],
   "source": [
    "ball.head(2)"
   ]
  },
  {
   "cell_type": "code",
   "execution_count": 30,
   "metadata": {},
   "outputs": [],
   "source": [
    "# Total balls bowled and total runs given by the bowler\n",
    "bowler= ball.groupby(by='bowler').count()['ball'].reset_index()\n",
    "temp= ball.groupby(by='bowler').sum()['total_runs']\n",
    "\n",
    "bowler= pd.merge(bowler, temp, on='bowler', how='outer')"
   ]
  },
  {
   "cell_type": "code",
   "execution_count": 31,
   "metadata": {},
   "outputs": [],
   "source": [
    "# Filtering the runouts/ retired hurts\n",
    "temp = ball.query('dismissal_kind!=\"obstructing the field\" & dismissal_kind !=\"retired hurt\" & dismissal_kind != \"run out\"')\n",
    "\n",
    "# Filtering the wickets taken\n",
    "temp = temp[~temp.isna().dismissal_kind][['bowler','dismissal_kind']]\n",
    "temp= temp.groupby(by=['bowler']).count().reset_index()\n",
    "\n",
    "bowler= pd.merge(bowler, temp, on='bowler', how='outer')"
   ]
  },
  {
   "cell_type": "code",
   "execution_count": 32,
   "metadata": {},
   "outputs": [],
   "source": [
    "# Renaming the column to reflect the wickets\n",
    "bowler.rename(columns={'dismissal_kind':'wickets_taken'}, inplace= True)"
   ]
  },
  {
   "cell_type": "code",
   "execution_count": 33,
   "metadata": {},
   "outputs": [],
   "source": [
    "# Calculating the total dot balls\n",
    "temp = ball.query('total_runs==0').groupby(by='bowler').count()['ball'].reset_index()\n",
    "bowler= pd.merge(bowler, temp, on='bowler', how='outer')"
   ]
  },
  {
   "cell_type": "code",
   "execution_count": 34,
   "metadata": {},
   "outputs": [
    {
     "data": {
      "text/html": [
       "<div>\n",
       "<style scoped>\n",
       "    .dataframe tbody tr th:only-of-type {\n",
       "        vertical-align: middle;\n",
       "    }\n",
       "\n",
       "    .dataframe tbody tr th {\n",
       "        vertical-align: top;\n",
       "    }\n",
       "\n",
       "    .dataframe thead th {\n",
       "        text-align: right;\n",
       "    }\n",
       "</style>\n",
       "<table border=\"1\" class=\"dataframe\">\n",
       "  <thead>\n",
       "    <tr style=\"text-align: right;\">\n",
       "      <th></th>\n",
       "      <th>bowler</th>\n",
       "      <th>balls_bowled</th>\n",
       "      <th>total_runs</th>\n",
       "      <th>wickets_taken</th>\n",
       "      <th>dot_balls</th>\n",
       "    </tr>\n",
       "  </thead>\n",
       "  <tbody>\n",
       "    <tr>\n",
       "      <td>0</td>\n",
       "      <td>A Ashish Reddy</td>\n",
       "      <td>270</td>\n",
       "      <td>400</td>\n",
       "      <td>18.0</td>\n",
       "      <td>79.0</td>\n",
       "    </tr>\n",
       "  </tbody>\n",
       "</table>\n",
       "</div>"
      ],
      "text/plain": [
       "           bowler  balls_bowled  total_runs  wickets_taken  dot_balls\n",
       "0  A Ashish Reddy           270         400           18.0       79.0"
      ]
     },
     "execution_count": 34,
     "metadata": {},
     "output_type": "execute_result"
    }
   ],
   "source": [
    "# Renaming the column to reflect the wickets\n",
    "bowler.rename(columns={'ball_x':'balls_bowled', 'ball_y':'dot_balls'}, inplace= True)\n",
    "bowler.head(1)"
   ]
  },
  {
   "cell_type": "code",
   "execution_count": 35,
   "metadata": {},
   "outputs": [
    {
     "data": {
      "text/html": [
       "<div>\n",
       "<style scoped>\n",
       "    .dataframe tbody tr th:only-of-type {\n",
       "        vertical-align: middle;\n",
       "    }\n",
       "\n",
       "    .dataframe tbody tr th {\n",
       "        vertical-align: top;\n",
       "    }\n",
       "\n",
       "    .dataframe thead th {\n",
       "        text-align: right;\n",
       "    }\n",
       "</style>\n",
       "<table border=\"1\" class=\"dataframe\">\n",
       "  <thead>\n",
       "    <tr style=\"text-align: right;\">\n",
       "      <th></th>\n",
       "      <th>bowler</th>\n",
       "      <th>balls_bowled</th>\n",
       "      <th>total_runs</th>\n",
       "      <th>wickets_taken</th>\n",
       "      <th>dot_balls</th>\n",
       "      <th>dismissal_kind</th>\n",
       "    </tr>\n",
       "  </thead>\n",
       "  <tbody>\n",
       "    <tr>\n",
       "      <td>0</td>\n",
       "      <td>A Ashish Reddy</td>\n",
       "      <td>270</td>\n",
       "      <td>400</td>\n",
       "      <td>18.0</td>\n",
       "      <td>79.0</td>\n",
       "      <td>9.0</td>\n",
       "    </tr>\n",
       "    <tr>\n",
       "      <td>1</td>\n",
       "      <td>A Chandila</td>\n",
       "      <td>234</td>\n",
       "      <td>245</td>\n",
       "      <td>11.0</td>\n",
       "      <td>103.0</td>\n",
       "      <td>NaN</td>\n",
       "    </tr>\n",
       "    <tr>\n",
       "      <td>2</td>\n",
       "      <td>A Choudhary</td>\n",
       "      <td>108</td>\n",
       "      <td>144</td>\n",
       "      <td>5.0</td>\n",
       "      <td>42.0</td>\n",
       "      <td>NaN</td>\n",
       "    </tr>\n",
       "  </tbody>\n",
       "</table>\n",
       "</div>"
      ],
      "text/plain": [
       "           bowler  balls_bowled  total_runs  wickets_taken  dot_balls  \\\n",
       "0  A Ashish Reddy           270         400           18.0       79.0   \n",
       "1      A Chandila           234         245           11.0      103.0   \n",
       "2     A Choudhary           108         144            5.0       42.0   \n",
       "\n",
       "   dismissal_kind  \n",
       "0             9.0  \n",
       "1             NaN  \n",
       "2             NaN  "
      ]
     },
     "execution_count": 35,
     "metadata": {},
     "output_type": "execute_result"
    }
   ],
   "source": [
    "# Calculating the number of bowled and LBWs taken by the bowler\n",
    "temp =ball.query('dismissal_kind==\"bowled\" | dismissal_kind ==\"lbw\" ').groupby(by='bowler').count()['dismissal_kind'].reset_index()\n",
    "bowler= pd.merge(bowler, temp, on='bowler', how='outer')\n",
    "bowler.head(3)"
   ]
  },
  {
   "cell_type": "code",
   "execution_count": 36,
   "metadata": {},
   "outputs": [],
   "source": [
    "# Renaming the column to reflect the wickets\n",
    "bowler.rename(columns={'dismissal_kind':'bowl_or_lbw'}, inplace= True)"
   ]
  },
  {
   "cell_type": "code",
   "execution_count": 37,
   "metadata": {},
   "outputs": [
    {
     "data": {
      "text/html": [
       "<div>\n",
       "<style scoped>\n",
       "    .dataframe tbody tr th:only-of-type {\n",
       "        vertical-align: middle;\n",
       "    }\n",
       "\n",
       "    .dataframe tbody tr th {\n",
       "        vertical-align: top;\n",
       "    }\n",
       "\n",
       "    .dataframe thead th {\n",
       "        text-align: right;\n",
       "    }\n",
       "</style>\n",
       "<table border=\"1\" class=\"dataframe\">\n",
       "  <thead>\n",
       "    <tr style=\"text-align: right;\">\n",
       "      <th></th>\n",
       "      <th>bowler</th>\n",
       "      <th>balls_bowled</th>\n",
       "      <th>total_runs</th>\n",
       "      <th>wickets_taken</th>\n",
       "      <th>dot_balls</th>\n",
       "      <th>bowl_or_lbw</th>\n",
       "    </tr>\n",
       "  </thead>\n",
       "  <tbody>\n",
       "    <tr>\n",
       "      <td>0</td>\n",
       "      <td>A Ashish Reddy</td>\n",
       "      <td>270</td>\n",
       "      <td>400</td>\n",
       "      <td>18.0</td>\n",
       "      <td>79.0</td>\n",
       "      <td>9.0</td>\n",
       "    </tr>\n",
       "  </tbody>\n",
       "</table>\n",
       "</div>"
      ],
      "text/plain": [
       "           bowler  balls_bowled  total_runs  wickets_taken  dot_balls  \\\n",
       "0  A Ashish Reddy           270         400           18.0       79.0   \n",
       "\n",
       "   bowl_or_lbw  \n",
       "0          9.0  "
      ]
     },
     "execution_count": 37,
     "metadata": {},
     "output_type": "execute_result"
    }
   ],
   "source": [
    "bowler.head(1)"
   ]
  },
  {
   "cell_type": "code",
   "execution_count": 38,
   "metadata": {},
   "outputs": [],
   "source": [
    "# Calculating the bowler economy\n",
    "bowler['economy']= bowler.total_runs/ (bowler.balls_bowled/6)"
   ]
  },
  {
   "cell_type": "code",
   "execution_count": 39,
   "metadata": {},
   "outputs": [],
   "source": [
    "# Calculating dot ball percent\n",
    "bowler['dot_ball_percent']= bowler.dot_balls/bowler.balls_bowled"
   ]
  },
  {
   "cell_type": "code",
   "execution_count": 40,
   "metadata": {},
   "outputs": [
    {
     "data": {
      "text/html": [
       "<div>\n",
       "<style scoped>\n",
       "    .dataframe tbody tr th:only-of-type {\n",
       "        vertical-align: middle;\n",
       "    }\n",
       "\n",
       "    .dataframe tbody tr th {\n",
       "        vertical-align: top;\n",
       "    }\n",
       "\n",
       "    .dataframe thead th {\n",
       "        text-align: right;\n",
       "    }\n",
       "</style>\n",
       "<table border=\"1\" class=\"dataframe\">\n",
       "  <thead>\n",
       "    <tr style=\"text-align: right;\">\n",
       "      <th></th>\n",
       "      <th>bowler</th>\n",
       "      <th>balls_bowled</th>\n",
       "      <th>total_runs</th>\n",
       "      <th>wickets_taken</th>\n",
       "      <th>dot_balls</th>\n",
       "      <th>bowl_or_lbw</th>\n",
       "      <th>economy</th>\n",
       "      <th>dot_ball_percent</th>\n",
       "      <th>death_runs</th>\n",
       "      <th>death_balls</th>\n",
       "    </tr>\n",
       "  </thead>\n",
       "  <tbody>\n",
       "    <tr>\n",
       "      <td>0</td>\n",
       "      <td>A Ashish Reddy</td>\n",
       "      <td>270</td>\n",
       "      <td>400</td>\n",
       "      <td>18.0</td>\n",
       "      <td>79.0</td>\n",
       "      <td>9.0</td>\n",
       "      <td>8.888889</td>\n",
       "      <td>0.292593</td>\n",
       "      <td>73.0</td>\n",
       "      <td>38.0</td>\n",
       "    </tr>\n",
       "    <tr>\n",
       "      <td>1</td>\n",
       "      <td>A Chandila</td>\n",
       "      <td>234</td>\n",
       "      <td>245</td>\n",
       "      <td>11.0</td>\n",
       "      <td>103.0</td>\n",
       "      <td>NaN</td>\n",
       "      <td>6.282051</td>\n",
       "      <td>0.440171</td>\n",
       "      <td>NaN</td>\n",
       "      <td>NaN</td>\n",
       "    </tr>\n",
       "    <tr>\n",
       "      <td>2</td>\n",
       "      <td>A Choudhary</td>\n",
       "      <td>108</td>\n",
       "      <td>144</td>\n",
       "      <td>5.0</td>\n",
       "      <td>42.0</td>\n",
       "      <td>NaN</td>\n",
       "      <td>8.000000</td>\n",
       "      <td>0.388889</td>\n",
       "      <td>29.0</td>\n",
       "      <td>21.0</td>\n",
       "    </tr>\n",
       "  </tbody>\n",
       "</table>\n",
       "</div>"
      ],
      "text/plain": [
       "           bowler  balls_bowled  total_runs  wickets_taken  dot_balls  \\\n",
       "0  A Ashish Reddy           270         400           18.0       79.0   \n",
       "1      A Chandila           234         245           11.0      103.0   \n",
       "2     A Choudhary           108         144            5.0       42.0   \n",
       "\n",
       "   bowl_or_lbw   economy  dot_ball_percent  death_runs  death_balls  \n",
       "0          9.0  8.888889          0.292593        73.0         38.0  \n",
       "1          NaN  6.282051          0.440171         NaN          NaN  \n",
       "2          NaN  8.000000          0.388889        29.0         21.0  "
      ]
     },
     "execution_count": 40,
     "metadata": {},
     "output_type": "execute_result"
    }
   ],
   "source": [
    "# Calculating the runs scored in last 3 overs (death over) to compare the bowlers performance\n",
    "a= ball.query('over>=18').groupby('bowler').sum()['total_runs']\n",
    "b= ball.query('over>=18').groupby('bowler').count()['batsman_runs']\n",
    "temp =pd.DataFrame(data=[a,b] ).transpose().reset_index()\n",
    "temp.rename(columns={'total_runs':'death_runs','batsman_runs':'death_balls' }, inplace= True)\n",
    "\n",
    "bowler= pd.merge(bowler, temp, on='bowler', how='outer')\n",
    "bowler.head(3)"
   ]
  },
  {
   "cell_type": "code",
   "execution_count": 41,
   "metadata": {},
   "outputs": [],
   "source": [
    "# Calculating bowling economy in death over\n",
    "bowler['death_econ']= bowler.death_runs/ (bowler.death_balls/6)"
   ]
  },
  {
   "cell_type": "code",
   "execution_count": 42,
   "metadata": {},
   "outputs": [],
   "source": [
    "# Calculating the percentage of bowled and LBWs by the bowler among the wickets they took\n",
    "bowler['bowl_lbw_percent']= bowler.bowl_or_lbw/ bowler.wickets_taken"
   ]
  },
  {
   "cell_type": "code",
   "execution_count": 43,
   "metadata": {},
   "outputs": [
    {
     "data": {
      "text/html": [
       "<div>\n",
       "<style scoped>\n",
       "    .dataframe tbody tr th:only-of-type {\n",
       "        vertical-align: middle;\n",
       "    }\n",
       "\n",
       "    .dataframe tbody tr th {\n",
       "        vertical-align: top;\n",
       "    }\n",
       "\n",
       "    .dataframe thead th {\n",
       "        text-align: right;\n",
       "    }\n",
       "</style>\n",
       "<table border=\"1\" class=\"dataframe\">\n",
       "  <thead>\n",
       "    <tr style=\"text-align: right;\">\n",
       "      <th></th>\n",
       "      <th>bowler</th>\n",
       "      <th>balls_bowled</th>\n",
       "      <th>total_runs</th>\n",
       "      <th>wickets_taken</th>\n",
       "      <th>dot_balls</th>\n",
       "      <th>bowl_or_lbw</th>\n",
       "      <th>economy</th>\n",
       "      <th>dot_ball_percent</th>\n",
       "      <th>death_runs</th>\n",
       "      <th>death_balls</th>\n",
       "      <th>death_econ</th>\n",
       "      <th>bowl_lbw_percent</th>\n",
       "    </tr>\n",
       "  </thead>\n",
       "  <tbody>\n",
       "    <tr>\n",
       "      <td>0</td>\n",
       "      <td>A Ashish Reddy</td>\n",
       "      <td>270</td>\n",
       "      <td>400</td>\n",
       "      <td>18.0</td>\n",
       "      <td>79.0</td>\n",
       "      <td>9.0</td>\n",
       "      <td>8.888889</td>\n",
       "      <td>0.292593</td>\n",
       "      <td>73.0</td>\n",
       "      <td>38.0</td>\n",
       "      <td>11.526316</td>\n",
       "      <td>0.5</td>\n",
       "    </tr>\n",
       "  </tbody>\n",
       "</table>\n",
       "</div>"
      ],
      "text/plain": [
       "           bowler  balls_bowled  total_runs  wickets_taken  dot_balls  \\\n",
       "0  A Ashish Reddy           270         400           18.0       79.0   \n",
       "\n",
       "   bowl_or_lbw   economy  dot_ball_percent  death_runs  death_balls  \\\n",
       "0          9.0  8.888889          0.292593        73.0         38.0   \n",
       "\n",
       "   death_econ  bowl_lbw_percent  \n",
       "0   11.526316               0.5  "
      ]
     },
     "execution_count": 43,
     "metadata": {},
     "output_type": "execute_result"
    }
   ],
   "source": [
    "bowler.head(1)"
   ]
  },
  {
   "cell_type": "markdown",
   "metadata": {},
   "source": [
    "### Team inning summary\n",
    "To calculate over wise run scoring for each team"
   ]
  },
  {
   "cell_type": "code",
   "execution_count": 44,
   "metadata": {},
   "outputs": [],
   "source": [
    "# Total innings played for each over bowled\n",
    "overs_played= ball[['batting_team','over','match_id']].drop_duplicates().groupby(by=['batting_team','over']).count()['match_id'].reset_index()"
   ]
  },
  {
   "cell_type": "code",
   "execution_count": 45,
   "metadata": {},
   "outputs": [],
   "source": [
    "# Total runs scored in each over\n",
    "over_runs= ball.groupby(by=['batting_team','over']).sum()['total_runs'].reset_index()\n",
    "over_runs= pd.merge(over_runs, overs_played, on=['batting_team','over'], how='outer')\n",
    "\n",
    "over_runs.rename(columns={'match_id':'matches'}, inplace= True)"
   ]
  },
  {
   "cell_type": "code",
   "execution_count": 46,
   "metadata": {},
   "outputs": [],
   "source": [
    "# Calculating average runs scored in each over\n",
    "over_runs['avg']= over_runs.total_runs/ over_runs.matches"
   ]
  },
  {
   "cell_type": "code",
   "execution_count": 47,
   "metadata": {},
   "outputs": [
    {
     "data": {
      "text/html": [
       "<div>\n",
       "<style scoped>\n",
       "    .dataframe tbody tr th:only-of-type {\n",
       "        vertical-align: middle;\n",
       "    }\n",
       "\n",
       "    .dataframe tbody tr th {\n",
       "        vertical-align: top;\n",
       "    }\n",
       "\n",
       "    .dataframe thead th {\n",
       "        text-align: right;\n",
       "    }\n",
       "</style>\n",
       "<table border=\"1\" class=\"dataframe\">\n",
       "  <thead>\n",
       "    <tr style=\"text-align: right;\">\n",
       "      <th></th>\n",
       "      <th>batting_team</th>\n",
       "      <th>over</th>\n",
       "      <th>total_runs</th>\n",
       "      <th>matches</th>\n",
       "      <th>avg</th>\n",
       "    </tr>\n",
       "  </thead>\n",
       "  <tbody>\n",
       "    <tr>\n",
       "      <td>0</td>\n",
       "      <td>Chennai Super Kings</td>\n",
       "      <td>1</td>\n",
       "      <td>870</td>\n",
       "      <td>164</td>\n",
       "      <td>5.304878</td>\n",
       "    </tr>\n",
       "    <tr>\n",
       "      <td>1</td>\n",
       "      <td>Chennai Super Kings</td>\n",
       "      <td>2</td>\n",
       "      <td>1116</td>\n",
       "      <td>164</td>\n",
       "      <td>6.804878</td>\n",
       "    </tr>\n",
       "    <tr>\n",
       "      <td>2</td>\n",
       "      <td>Chennai Super Kings</td>\n",
       "      <td>3</td>\n",
       "      <td>1293</td>\n",
       "      <td>164</td>\n",
       "      <td>7.884146</td>\n",
       "    </tr>\n",
       "    <tr>\n",
       "      <td>3</td>\n",
       "      <td>Chennai Super Kings</td>\n",
       "      <td>4</td>\n",
       "      <td>1354</td>\n",
       "      <td>164</td>\n",
       "      <td>8.256098</td>\n",
       "    </tr>\n",
       "    <tr>\n",
       "      <td>4</td>\n",
       "      <td>Chennai Super Kings</td>\n",
       "      <td>5</td>\n",
       "      <td>1423</td>\n",
       "      <td>164</td>\n",
       "      <td>8.676829</td>\n",
       "    </tr>\n",
       "  </tbody>\n",
       "</table>\n",
       "</div>"
      ],
      "text/plain": [
       "          batting_team  over  total_runs  matches       avg\n",
       "0  Chennai Super Kings     1         870      164  5.304878\n",
       "1  Chennai Super Kings     2        1116      164  6.804878\n",
       "2  Chennai Super Kings     3        1293      164  7.884146\n",
       "3  Chennai Super Kings     4        1354      164  8.256098\n",
       "4  Chennai Super Kings     5        1423      164  8.676829"
      ]
     },
     "execution_count": 47,
     "metadata": {},
     "output_type": "execute_result"
    }
   ],
   "source": [
    "over_runs.head()"
   ]
  },
  {
   "cell_type": "markdown",
   "metadata": {},
   "source": [
    "### Changing the datatype for Match columns"
   ]
  },
  {
   "cell_type": "code",
   "execution_count": 184,
   "metadata": {},
   "outputs": [
    {
     "name": "stdout",
     "output_type": "stream",
     "text": [
      "<class 'pandas.core.frame.DataFrame'>\n",
      "Int64Index: 756 entries, 0 to 755\n",
      "Data columns (total 22 columns):\n",
      "id                 756 non-null int64\n",
      "season             756 non-null int64\n",
      "city               749 non-null object\n",
      "date               756 non-null object\n",
      "team1              756 non-null object\n",
      "team2              756 non-null object\n",
      "toss_winner        756 non-null object\n",
      "toss_decision      756 non-null object\n",
      "result             756 non-null object\n",
      "dl_applied         756 non-null int64\n",
      "winner             752 non-null object\n",
      "win_by_runs        756 non-null int64\n",
      "win_by_wickets     756 non-null int64\n",
      "player_of_match    752 non-null object\n",
      "venue              756 non-null object\n",
      "match_id           754 non-null float64\n",
      "runs_1             754 non-null float64\n",
      "runs_2             754 non-null float64\n",
      "overs_1            754 non-null float64\n",
      "overs_2            754 non-null float64\n",
      "wickets_1          754 non-null float64\n",
      "wickets_2          754 non-null float64\n",
      "dtypes: float64(7), int64(5), object(10)\n",
      "memory usage: 155.8+ KB\n"
     ]
    }
   ],
   "source": [
    "# Changing the data type for the match columns to float values\n",
    "float_list=['runs_1', 'runs_2','overs_1', 'overs_2','wickets_1', 'wickets_2' ]\n",
    "for col in float_list:\n",
    "    match.loc[:,col] = match[col].astype(float)\n",
    "match.info()"
   ]
  },
  {
   "cell_type": "markdown",
   "metadata": {},
   "source": [
    "### Replacing the city names that are same"
   ]
  },
  {
   "cell_type": "code",
   "execution_count": 197,
   "metadata": {},
   "outputs": [],
   "source": [
    "match.replace({'Bengaluru':'Bangalore'}, inplace= True)"
   ]
  },
  {
   "cell_type": "markdown",
   "metadata": {},
   "source": [
    "### Which team won the match (batting or fielding first)"
   ]
  },
  {
   "cell_type": "code",
   "execution_count": 212,
   "metadata": {},
   "outputs": [],
   "source": [
    "match['batting_first_won']= match.winner== match.team1"
   ]
  },
  {
   "cell_type": "markdown",
   "metadata": {},
   "source": [
    "# Exploratory Data Analysis"
   ]
  },
  {
   "cell_type": "markdown",
   "metadata": {},
   "source": [
    "### Average runs scored in each over"
   ]
  },
  {
   "cell_type": "code",
   "execution_count": 48,
   "metadata": {},
   "outputs": [
    {
     "data": {
      "image/png": "[encoded data removed]",
      "text/plain": [
       "<Figure size 720x432 with 1 Axes>"
      ]
     },
     "metadata": {},
     "output_type": "display_data"
    }
   ],
   "source": [
    "# Plotting average runs scored in each over in IPL\n",
    "series= over_runs.groupby(by='over').mean()['avg']\n",
    "sns.set_style('darkgrid')\n",
    "\n",
    "plt.figure(figsize=(10,6))\n",
    "sns.barplot(x=series.index, y=series, color='tab:blue', )\n",
    "plt.axhline(over_runs.avg.mean(), color='r', label= 'Avg runs scored total')\n",
    "plt.title('Average runs scored in each over')\n",
    "plt.ylabel('Average runs scored')\n",
    "plt.xlabel('Over number')\n",
    "plt.yticks(np.arange(0,11))\n",
    "plt.legend()\n",
    "plt.show()"
   ]
  },
  {
   "cell_type": "markdown",
   "metadata": {},
   "source": [
    "### Average runs scored per over team wise"
   ]
  },
  {
   "cell_type": "code",
   "execution_count": 49,
   "metadata": {},
   "outputs": [],
   "source": [
    "color_code= {'Chennai Super Kings':'y','Delhi (Capitals/ Daredevils)':'b','Hyderabad (Sunriser/Chargers)':'tab:orange',\\\n",
    "  'Kings XI Punjab':'r', 'Kolkata Knight Riders':'k','Mumbai Indians':'tab:blue','Rajasthan Royals':'tab:pink',\\\n",
    "     'Royal Challengers Bangalore':'tab:red'}"
   ]
  },
  {
   "cell_type": "code",
   "execution_count": 50,
   "metadata": {},
   "outputs": [
    {
     "data": {
      "image/png": "[encoded data removed]",
      "text/plain": [
       "<Figure size 720x432 with 1 Axes>"
      ]
     },
     "metadata": {},
     "output_type": "display_data"
    }
   ],
   "source": [
    "# Average runs scored per over team wise\n",
    "sns.set_style('darkgrid')\n",
    "plt.figure(figsize=(10,6))\n",
    "\n",
    "temp= over_runs.query('batting_team !=\"Kochi Tuskers Kerala\" & batting_team != \"Pune (Supergiant/ Warriors)\" & \\\n",
    "batting_team !=\"Gujarat Lions\"')\n",
    "sns.lineplot(x='over', y='avg', data=temp, hue='batting_team', palette=color_code)\n",
    "plt.xticks(np.arange(1,21))\n",
    "plt.legend(loc=(1.05,0.3))\n",
    "plt.title('Average runs scored per over (team wise)')\n",
    "plt.show()"
   ]
  },
  {
   "cell_type": "markdown",
   "metadata": {},
   "source": [
    "### Winning percent team and inning wise"
   ]
  },
  {
   "cell_type": "code",
   "execution_count": 51,
   "metadata": {},
   "outputs": [],
   "source": [
    "# Grouping the wins for teams batting first and second\n",
    "temp = match.groupby(by=['winner','team1']).count()['id'].reset_index().query('winner==team1')[['winner','id']]\n",
    "temp2 = match.groupby(by=['winner','team2']).count()['id'].reset_index().query('winner==team2')[['winner','id']]\n",
    "temp3= pd.DataFrame([match.team1.value_counts(),match.team2.value_counts()],).transpose().reset_index()\n",
    "\n",
    "team_stat= pd.merge(temp, temp2, on='winner', how='inner')\n",
    "team_stat= pd.merge(team_stat, temp3, left_on='winner',right_on='index', how='inner')\n",
    "\n",
    "team_stat.rename(columns={'id_x':'batting_first','id_y':'batting_second'}, inplace= True)\n",
    "team_stat.drop(columns=['index'], inplace= True)"
   ]
  },
  {
   "cell_type": "code",
   "execution_count": 52,
   "metadata": {},
   "outputs": [],
   "source": [
    "# finding win percent inning wise\n",
    "team_stat['win_percent_first']= team_stat['batting_first']/ team_stat['team1']\n",
    "team_stat['win_percent_second']= team_stat['batting_second']/ team_stat['team2']"
   ]
  },
  {
   "cell_type": "code",
   "execution_count": 53,
   "metadata": {},
   "outputs": [],
   "source": [
    "# Aggregating the win percent\n",
    "team_stat['win_percent']=(team_stat.batting_first+ team_stat.batting_second)/ (team_stat.team1+ team_stat.team2)"
   ]
  },
  {
   "cell_type": "code",
   "execution_count": 54,
   "metadata": {},
   "outputs": [],
   "source": [
    "# Sorting the values\n",
    "team_stat.sort_values(by='win_percent', inplace=True, ascending=False)"
   ]
  },
  {
   "cell_type": "code",
   "execution_count": 55,
   "metadata": {},
   "outputs": [
    {
     "data": {
      "image/png": "[encoded data removed]",
      "text/plain": [
       "<Figure size 576x432 with 1 Axes>"
      ]
     },
     "metadata": {},
     "output_type": "display_data"
    }
   ],
   "source": [
    "plt.figure(figsize=(8,6))\n",
    "sns.set_style('darkgrid')\n",
    "\n",
    "sns.lineplot(x= 'winner', y= 'win_percent_first',data=team_stat, color='g',label='Batting First', sort= False, marker='o' )\n",
    "sns.lineplot(x= 'winner', y= 'win_percent_second', data=team_stat, color='y', label= 'Fielding First',sort=False,marker='o')\n",
    "sns.barplot(x='winner', y= 'win_percent',data=team_stat,  color='tab:blue', label='Average winning rate')\n",
    "\n",
    "plt.xticks(rotation=90)\n",
    "plt.xlabel('IPL Team')\n",
    "plt.ylabel('Winning Percent')\n",
    "plt.title('Winning percent for each team')\n",
    "plt.legend()\n",
    "plt.show()"
   ]
  },
  {
   "cell_type": "markdown",
   "metadata": {},
   "source": [
    "### Cliffhanger matches\n",
    "We need to see how many matches were decided in the last over to see if they were cliffhanger matches. \n",
    "\n",
    "To see this we will find how many times Team 2 won the match after the 20.3th over and how many times Team 1 won by less than 6 runs (maximum runs that can be scored on a ball)."
   ]
  },
  {
   "cell_type": "code",
   "execution_count": 56,
   "metadata": {},
   "outputs": [],
   "source": [
    "# Finding matches where Team 1 won by less than 6 runs or Team 2 won in last 3 balls\n",
    "cliff= match.query('(win_by_runs <6 & win_by_runs >0) | (overs_2 > 20.3 & win_by_wickets >0)')"
   ]
  },
  {
   "cell_type": "code",
   "execution_count": 57,
   "metadata": {},
   "outputs": [
    {
     "data": {
      "text/html": [
       "<div>\n",
       "<style scoped>\n",
       "    .dataframe tbody tr th:only-of-type {\n",
       "        vertical-align: middle;\n",
       "    }\n",
       "\n",
       "    .dataframe tbody tr th {\n",
       "        vertical-align: top;\n",
       "    }\n",
       "\n",
       "    .dataframe thead th {\n",
       "        text-align: right;\n",
       "    }\n",
       "</style>\n",
       "<table border=\"1\" class=\"dataframe\">\n",
       "  <thead>\n",
       "    <tr style=\"text-align: right;\">\n",
       "      <th></th>\n",
       "      <th>id</th>\n",
       "      <th>season</th>\n",
       "      <th>city</th>\n",
       "      <th>date</th>\n",
       "      <th>team1</th>\n",
       "      <th>team2</th>\n",
       "      <th>toss_winner</th>\n",
       "      <th>toss_decision</th>\n",
       "      <th>result</th>\n",
       "      <th>dl_applied</th>\n",
       "      <th>...</th>\n",
       "      <th>win_by_wickets</th>\n",
       "      <th>player_of_match</th>\n",
       "      <th>venue</th>\n",
       "      <th>match_id</th>\n",
       "      <th>runs_1</th>\n",
       "      <th>runs_2</th>\n",
       "      <th>overs_1</th>\n",
       "      <th>overs_2</th>\n",
       "      <th>wickets_1</th>\n",
       "      <th>wickets_2</th>\n",
       "    </tr>\n",
       "  </thead>\n",
       "  <tbody>\n",
       "    <tr>\n",
       "      <td>1</td>\n",
       "      <td>2</td>\n",
       "      <td>2017</td>\n",
       "      <td>Pune</td>\n",
       "      <td>2017-04-06</td>\n",
       "      <td>Mumbai Indians</td>\n",
       "      <td>Pune (Supergiant/ Warriors)</td>\n",
       "      <td>Pune (Supergiant/ Warriors)</td>\n",
       "      <td>field</td>\n",
       "      <td>normal</td>\n",
       "      <td>0</td>\n",
       "      <td>...</td>\n",
       "      <td>7</td>\n",
       "      <td>SPD Smith</td>\n",
       "      <td>Maharashtra Cricket Association Stadium</td>\n",
       "      <td>2.0</td>\n",
       "      <td>184</td>\n",
       "      <td>187</td>\n",
       "      <td>20.7</td>\n",
       "      <td>20.5</td>\n",
       "      <td>8</td>\n",
       "      <td>3</td>\n",
       "    </tr>\n",
       "    <tr>\n",
       "      <td>6</td>\n",
       "      <td>7</td>\n",
       "      <td>2017</td>\n",
       "      <td>Mumbai</td>\n",
       "      <td>2017-04-09</td>\n",
       "      <td>Kolkata Knight Riders</td>\n",
       "      <td>Mumbai Indians</td>\n",
       "      <td>Mumbai Indians</td>\n",
       "      <td>field</td>\n",
       "      <td>normal</td>\n",
       "      <td>0</td>\n",
       "      <td>...</td>\n",
       "      <td>4</td>\n",
       "      <td>N Rana</td>\n",
       "      <td>Wankhede Stadium</td>\n",
       "      <td>7.0</td>\n",
       "      <td>178</td>\n",
       "      <td>180</td>\n",
       "      <td>20.8</td>\n",
       "      <td>20.5</td>\n",
       "      <td>7</td>\n",
       "      <td>6</td>\n",
       "    </tr>\n",
       "  </tbody>\n",
       "</table>\n",
       "<p>2 rows × 22 columns</p>\n",
       "</div>"
      ],
      "text/plain": [
       "   id  season    city        date                  team1  \\\n",
       "1   2    2017    Pune  2017-04-06         Mumbai Indians   \n",
       "6   7    2017  Mumbai  2017-04-09  Kolkata Knight Riders   \n",
       "\n",
       "                         team2                  toss_winner toss_decision  \\\n",
       "1  Pune (Supergiant/ Warriors)  Pune (Supergiant/ Warriors)         field   \n",
       "6               Mumbai Indians               Mumbai Indians         field   \n",
       "\n",
       "   result  dl_applied  ... win_by_wickets  player_of_match  \\\n",
       "1  normal           0  ...              7        SPD Smith   \n",
       "6  normal           0  ...              4           N Rana   \n",
       "\n",
       "                                     venue match_id runs_1  runs_2 overs_1  \\\n",
       "1  Maharashtra Cricket Association Stadium      2.0    184     187    20.7   \n",
       "6                         Wankhede Stadium      7.0    178     180    20.8   \n",
       "\n",
       "  overs_2 wickets_1 wickets_2  \n",
       "1    20.5         8         3  \n",
       "6    20.5         7         6  \n",
       "\n",
       "[2 rows x 22 columns]"
      ]
     },
     "execution_count": 57,
     "metadata": {},
     "output_type": "execute_result"
    }
   ],
   "source": [
    "cliff.head(2)"
   ]
  },
  {
   "cell_type": "code",
   "execution_count": 58,
   "metadata": {},
   "outputs": [],
   "source": [
    "# Grouping the wins for teams batting first and second\n",
    "temp = cliff.groupby(by=['winner','team1']).count()['id'].reset_index().query('winner==team1')[['winner','id']]\n",
    "temp2 = cliff.groupby(by=['winner','team2']).count()['id'].reset_index().query('winner==team2')[['winner','id']]\n",
    "temp3= pd.DataFrame([cliff.team1.value_counts(),cliff.team2.value_counts()],).transpose().reset_index()\n",
    "\n",
    "team_stat2= pd.merge(temp, temp2, on='winner', how='inner')\n",
    "team_stat2= pd.merge(team_stat2, temp3, left_on='winner',right_on='index', how='inner')\n",
    "\n",
    "team_stat2.rename(columns={'id_x':'batting_first','id_y':'batting_second'}, inplace= True)\n",
    "team_stat2.drop(columns=['index'], inplace= True)\n",
    "\n",
    "# finding win percent inning wise\n",
    "team_stat2['win_percent_first']= team_stat2['batting_first']/ team_stat2['team1']\n",
    "team_stat2['win_percent_second']= team_stat2['batting_second']/ team_stat2['team2']\n",
    "\n",
    "# Aggregating the win percent\n",
    "team_stat2['win_percent']=(team_stat2.batting_first+ team_stat2.batting_second)/ (team_stat2.team1+ team_stat2.team2)"
   ]
  },
  {
   "cell_type": "code",
   "execution_count": 59,
   "metadata": {},
   "outputs": [
    {
     "data": {
      "text/html": [
       "<div>\n",
       "<style scoped>\n",
       "    .dataframe tbody tr th:only-of-type {\n",
       "        vertical-align: middle;\n",
       "    }\n",
       "\n",
       "    .dataframe tbody tr th {\n",
       "        vertical-align: top;\n",
       "    }\n",
       "\n",
       "    .dataframe thead th {\n",
       "        text-align: right;\n",
       "    }\n",
       "</style>\n",
       "<table border=\"1\" class=\"dataframe\">\n",
       "  <thead>\n",
       "    <tr style=\"text-align: right;\">\n",
       "      <th></th>\n",
       "      <th>winner</th>\n",
       "      <th>batting_first</th>\n",
       "      <th>batting_second</th>\n",
       "      <th>team1</th>\n",
       "      <th>team2</th>\n",
       "      <th>win_percent_first</th>\n",
       "      <th>win_percent_second</th>\n",
       "      <th>win_percent</th>\n",
       "      <th>total_wins</th>\n",
       "    </tr>\n",
       "  </thead>\n",
       "  <tbody>\n",
       "    <tr>\n",
       "      <td>0</td>\n",
       "      <td>Chennai Super Kings</td>\n",
       "      <td>4</td>\n",
       "      <td>21</td>\n",
       "      <td>15</td>\n",
       "      <td>24</td>\n",
       "      <td>0.266667</td>\n",
       "      <td>0.875000</td>\n",
       "      <td>0.641026</td>\n",
       "      <td>25</td>\n",
       "    </tr>\n",
       "    <tr>\n",
       "      <td>6</td>\n",
       "      <td>Mumbai Indians</td>\n",
       "      <td>7</td>\n",
       "      <td>13</td>\n",
       "      <td>17</td>\n",
       "      <td>18</td>\n",
       "      <td>0.411765</td>\n",
       "      <td>0.722222</td>\n",
       "      <td>0.571429</td>\n",
       "      <td>20</td>\n",
       "    </tr>\n",
       "    <tr>\n",
       "      <td>8</td>\n",
       "      <td>Rajasthan Royals</td>\n",
       "      <td>3</td>\n",
       "      <td>12</td>\n",
       "      <td>8</td>\n",
       "      <td>15</td>\n",
       "      <td>0.375000</td>\n",
       "      <td>0.800000</td>\n",
       "      <td>0.652174</td>\n",
       "      <td>15</td>\n",
       "    </tr>\n",
       "    <tr>\n",
       "      <td>4</td>\n",
       "      <td>Kings XI Punjab</td>\n",
       "      <td>7</td>\n",
       "      <td>7</td>\n",
       "      <td>19</td>\n",
       "      <td>12</td>\n",
       "      <td>0.368421</td>\n",
       "      <td>0.583333</td>\n",
       "      <td>0.451613</td>\n",
       "      <td>14</td>\n",
       "    </tr>\n",
       "    <tr>\n",
       "      <td>5</td>\n",
       "      <td>Kolkata Knight Riders</td>\n",
       "      <td>2</td>\n",
       "      <td>10</td>\n",
       "      <td>12</td>\n",
       "      <td>15</td>\n",
       "      <td>0.166667</td>\n",
       "      <td>0.666667</td>\n",
       "      <td>0.444444</td>\n",
       "      <td>12</td>\n",
       "    </tr>\n",
       "  </tbody>\n",
       "</table>\n",
       "</div>"
      ],
      "text/plain": [
       "                  winner  batting_first  batting_second  team1  team2  \\\n",
       "0    Chennai Super Kings              4              21     15     24   \n",
       "6         Mumbai Indians              7              13     17     18   \n",
       "8       Rajasthan Royals              3              12      8     15   \n",
       "4        Kings XI Punjab              7               7     19     12   \n",
       "5  Kolkata Knight Riders              2              10     12     15   \n",
       "\n",
       "   win_percent_first  win_percent_second  win_percent  total_wins  \n",
       "0           0.266667            0.875000     0.641026          25  \n",
       "6           0.411765            0.722222     0.571429          20  \n",
       "8           0.375000            0.800000     0.652174          15  \n",
       "4           0.368421            0.583333     0.451613          14  \n",
       "5           0.166667            0.666667     0.444444          12  "
      ]
     },
     "execution_count": 59,
     "metadata": {},
     "output_type": "execute_result"
    }
   ],
   "source": [
    "team_stat2['total_wins']= team_stat2.batting_first + team_stat2.batting_second\n",
    "\n",
    "# Sorting the values\n",
    "team_stat2.sort_values(by='total_wins', inplace=True, ascending=False)\n",
    "team_stat2.head()"
   ]
  },
  {
   "cell_type": "code",
   "execution_count": 60,
   "metadata": {},
   "outputs": [
    {
     "data": {
      "image/png": "[encoded data removed]",
      "text/plain": [
       "<Figure size 576x432 with 2 Axes>"
      ]
     },
     "metadata": {},
     "output_type": "display_data"
    }
   ],
   "source": [
    "plt.figure(figsize=(8,6))\n",
    "sns.set_style('ticks')\n",
    "\n",
    "sns.barplot(team_stat2.winner, team_stat2.total_wins ,label='Total wins', color='tab:blue')\n",
    "plt.xticks(rotation=90)\n",
    "plt.xlabel('IPL Team')\n",
    "plt.ylabel('Total wins')\n",
    "\n",
    "axes2= plt.twinx()\n",
    "axes2.plot(team_stat2.winner,team_stat2.win_percent_first ,'g-o',label='Batting First')\n",
    "axes2.plot(team_stat2.winner,team_stat2.win_percent_second ,'y-o',label='Fielding First')\n",
    "axes2.plot(team_stat2.winner,team_stat2.win_percent ,'r-o',label='Average winning rate')\n",
    "\n",
    "plt.ylabel('Winning Percent')\n",
    "plt.yticks(np.arange(0,1.1,0.1) )\n",
    "plt.title('Cliffhanger wins for each team')\n",
    "plt.legend(loc=9 )\n",
    "plt.show()"
   ]
  },
  {
   "cell_type": "code",
   "execution_count": 61,
   "metadata": {},
   "outputs": [
    {
     "data": {
      "text/html": [
       "<div>\n",
       "<style scoped>\n",
       "    .dataframe tbody tr th:only-of-type {\n",
       "        vertical-align: middle;\n",
       "    }\n",
       "\n",
       "    .dataframe tbody tr th {\n",
       "        vertical-align: top;\n",
       "    }\n",
       "\n",
       "    .dataframe thead th {\n",
       "        text-align: right;\n",
       "    }\n",
       "</style>\n",
       "<table border=\"1\" class=\"dataframe\">\n",
       "  <thead>\n",
       "    <tr style=\"text-align: right;\">\n",
       "      <th></th>\n",
       "      <th>winner</th>\n",
       "      <th>batting_first</th>\n",
       "      <th>batting_second</th>\n",
       "      <th>team1</th>\n",
       "      <th>team2</th>\n",
       "      <th>win_percent_first</th>\n",
       "      <th>win_percent_second</th>\n",
       "      <th>win_percent</th>\n",
       "      <th>total_wins</th>\n",
       "    </tr>\n",
       "  </thead>\n",
       "  <tbody>\n",
       "    <tr>\n",
       "      <td>0</td>\n",
       "      <td>Chennai Super Kings</td>\n",
       "      <td>4</td>\n",
       "      <td>21</td>\n",
       "      <td>15</td>\n",
       "      <td>24</td>\n",
       "      <td>0.266667</td>\n",
       "      <td>0.875000</td>\n",
       "      <td>0.641026</td>\n",
       "      <td>25</td>\n",
       "    </tr>\n",
       "    <tr>\n",
       "      <td>6</td>\n",
       "      <td>Mumbai Indians</td>\n",
       "      <td>7</td>\n",
       "      <td>13</td>\n",
       "      <td>17</td>\n",
       "      <td>18</td>\n",
       "      <td>0.411765</td>\n",
       "      <td>0.722222</td>\n",
       "      <td>0.571429</td>\n",
       "      <td>20</td>\n",
       "    </tr>\n",
       "    <tr>\n",
       "      <td>8</td>\n",
       "      <td>Rajasthan Royals</td>\n",
       "      <td>3</td>\n",
       "      <td>12</td>\n",
       "      <td>8</td>\n",
       "      <td>15</td>\n",
       "      <td>0.375000</td>\n",
       "      <td>0.800000</td>\n",
       "      <td>0.652174</td>\n",
       "      <td>15</td>\n",
       "    </tr>\n",
       "    <tr>\n",
       "      <td>4</td>\n",
       "      <td>Kings XI Punjab</td>\n",
       "      <td>7</td>\n",
       "      <td>7</td>\n",
       "      <td>19</td>\n",
       "      <td>12</td>\n",
       "      <td>0.368421</td>\n",
       "      <td>0.583333</td>\n",
       "      <td>0.451613</td>\n",
       "      <td>14</td>\n",
       "    </tr>\n",
       "    <tr>\n",
       "      <td>5</td>\n",
       "      <td>Kolkata Knight Riders</td>\n",
       "      <td>2</td>\n",
       "      <td>10</td>\n",
       "      <td>12</td>\n",
       "      <td>15</td>\n",
       "      <td>0.166667</td>\n",
       "      <td>0.666667</td>\n",
       "      <td>0.444444</td>\n",
       "      <td>12</td>\n",
       "    </tr>\n",
       "    <tr>\n",
       "      <td>1</td>\n",
       "      <td>Delhi (Capitals/ Daredevils)</td>\n",
       "      <td>3</td>\n",
       "      <td>8</td>\n",
       "      <td>10</td>\n",
       "      <td>14</td>\n",
       "      <td>0.300000</td>\n",
       "      <td>0.571429</td>\n",
       "      <td>0.458333</td>\n",
       "      <td>11</td>\n",
       "    </tr>\n",
       "    <tr>\n",
       "      <td>3</td>\n",
       "      <td>Hyderabad (Sunriser/Chargers)</td>\n",
       "      <td>5</td>\n",
       "      <td>6</td>\n",
       "      <td>22</td>\n",
       "      <td>11</td>\n",
       "      <td>0.227273</td>\n",
       "      <td>0.545455</td>\n",
       "      <td>0.333333</td>\n",
       "      <td>11</td>\n",
       "    </tr>\n",
       "    <tr>\n",
       "      <td>9</td>\n",
       "      <td>Royal Challengers Bangalore</td>\n",
       "      <td>5</td>\n",
       "      <td>6</td>\n",
       "      <td>17</td>\n",
       "      <td>9</td>\n",
       "      <td>0.294118</td>\n",
       "      <td>0.666667</td>\n",
       "      <td>0.423077</td>\n",
       "      <td>11</td>\n",
       "    </tr>\n",
       "    <tr>\n",
       "      <td>2</td>\n",
       "      <td>Gujarat Lions</td>\n",
       "      <td>1</td>\n",
       "      <td>4</td>\n",
       "      <td>3</td>\n",
       "      <td>4</td>\n",
       "      <td>0.333333</td>\n",
       "      <td>1.000000</td>\n",
       "      <td>0.714286</td>\n",
       "      <td>5</td>\n",
       "    </tr>\n",
       "    <tr>\n",
       "      <td>7</td>\n",
       "      <td>Pune (Supergiant/ Warriors)</td>\n",
       "      <td>1</td>\n",
       "      <td>4</td>\n",
       "      <td>6</td>\n",
       "      <td>7</td>\n",
       "      <td>0.166667</td>\n",
       "      <td>0.571429</td>\n",
       "      <td>0.384615</td>\n",
       "      <td>5</td>\n",
       "    </tr>\n",
       "  </tbody>\n",
       "</table>\n",
       "</div>"
      ],
      "text/plain": [
       "                          winner  batting_first  batting_second  team1  team2  \\\n",
       "0            Chennai Super Kings              4              21     15     24   \n",
       "6                 Mumbai Indians              7              13     17     18   \n",
       "8               Rajasthan Royals              3              12      8     15   \n",
       "4                Kings XI Punjab              7               7     19     12   \n",
       "5          Kolkata Knight Riders              2              10     12     15   \n",
       "1   Delhi (Capitals/ Daredevils)              3               8     10     14   \n",
       "3  Hyderabad (Sunriser/Chargers)              5               6     22     11   \n",
       "9    Royal Challengers Bangalore              5               6     17      9   \n",
       "2                  Gujarat Lions              1               4      3      4   \n",
       "7    Pune (Supergiant/ Warriors)              1               4      6      7   \n",
       "\n",
       "   win_percent_first  win_percent_second  win_percent  total_wins  \n",
       "0           0.266667            0.875000     0.641026          25  \n",
       "6           0.411765            0.722222     0.571429          20  \n",
       "8           0.375000            0.800000     0.652174          15  \n",
       "4           0.368421            0.583333     0.451613          14  \n",
       "5           0.166667            0.666667     0.444444          12  \n",
       "1           0.300000            0.571429     0.458333          11  \n",
       "3           0.227273            0.545455     0.333333          11  \n",
       "9           0.294118            0.666667     0.423077          11  \n",
       "2           0.333333            1.000000     0.714286           5  \n",
       "7           0.166667            0.571429     0.384615           5  "
      ]
     },
     "execution_count": 61,
     "metadata": {},
     "output_type": "execute_result"
    }
   ],
   "source": [
    "team_stat2"
   ]
  },
  {
   "cell_type": "markdown",
   "metadata": {},
   "source": [
    "### Distribution of wins\n",
    "We will next see the distribution of wins for the teams batting first and second."
   ]
  },
  {
   "cell_type": "code",
   "execution_count": 62,
   "metadata": {},
   "outputs": [
    {
     "data": {
      "image/png": "[encoded data removed]",
      "text/plain": [
       "<Figure size 576x432 with 1 Axes>"
      ]
     },
     "metadata": {},
     "output_type": "display_data"
    }
   ],
   "source": [
    "# Distribution for team batting first\n",
    "temp= match.query('win_by_runs!=0')\n",
    "\n",
    "plt.figure(figsize=(8,6))\n",
    "plt.hist(temp.win_by_runs, bins=15)\n",
    "plt.xticks(np.arange(0,160,10))\n",
    "plt.xlabel('Margin of win by runs')\n",
    "plt.ylabel('Frequency')\n",
    "plt.title('Distribution for victory margin(in runs)')\n",
    "plt.show()"
   ]
  },
  {
   "cell_type": "code",
   "execution_count": 63,
   "metadata": {},
   "outputs": [
    {
     "data": {
      "image/png": "[encoded data removed]",
      "text/plain": [
       "<Figure size 576x432 with 1 Axes>"
      ]
     },
     "metadata": {},
     "output_type": "display_data"
    }
   ],
   "source": [
    "# Distribution for team batting second\n",
    "temp = match.query('win_by_wickets>0').overs_2.apply(lambda x: int(x))\n",
    "\n",
    "plt.figure(figsize=(8,6))\n",
    "plt.hist(temp, bins= 16  )\n",
    "plt.xticks(np.arange(5,21,1))\n",
    "plt.xlabel('Overs')\n",
    "plt.ylabel('Frequency')\n",
    "plt.title('Which over did the chasing team win the match?')\n",
    "plt.show()"
   ]
  },
  {
   "cell_type": "markdown",
   "metadata": {},
   "source": [
    "### Best Batting statistics"
   ]
  },
  {
   "cell_type": "code",
   "execution_count": 113,
   "metadata": {},
   "outputs": [
    {
     "data": {
      "image/png": "[encoded data removed]",
      "text/plain": [
       "<Figure size 576x432 with 2 Axes>"
      ]
     },
     "metadata": {},
     "output_type": "display_data"
    }
   ],
   "source": [
    "# Most runs scored by a batsman\n",
    "temp=batsman.sort_values(by='total_runs', ascending= False).head(7)\n",
    "sns.set_style('dark')\n",
    "\n",
    "plt.figure(figsize= (8,6))\n",
    "sns.barplot(x= temp.batsman, y= temp.total_runs, color= 'tab:blue')\n",
    "plt.ylabel('Total Runs scored')\n",
    "plt.xlabel('Batsmen')\n",
    "plt.title('Most runs scored by a batsman')\n",
    "plt.yticks(np.arange(0,5600,500))\n",
    "\n",
    "axes2= plt.twinx()\n",
    "axes2.plot(temp.batsman, temp.boundary_percent*100, 'r-o', label='Percent of runs scored in boundary')\n",
    "axes2.plot(temp.batsman, temp.strike_rate, 'y-o', label='Strike Rate')\n",
    "plt.ylabel('Percent/ Strike Rate')\n",
    "plt.yticks(np.arange(50,180,10))\n",
    "plt.legend()\n",
    "plt.show()"
   ]
  },
  {
   "cell_type": "code",
   "execution_count": 111,
   "metadata": {},
   "outputs": [
    {
     "data": {
      "image/png": "[encoded data removed]",
      "text/plain": [
       "<Figure size 576x432 with 2 Axes>"
      ]
     },
     "metadata": {},
     "output_type": "display_data"
    }
   ],
   "source": [
    "# Most runs scored by an opening batsman\n",
    "temp=batsman.sort_values(by='opening_runs', ascending= False).head(7)\n",
    "sns.set_style('dark', )\n",
    "\n",
    "plt.figure(figsize= (8,6))\n",
    "sns.barplot(x= temp.batsman, y= temp.opening_runs, color= 'tab:blue')\n",
    "plt.ylabel('Total Runs scored')\n",
    "plt.xlabel('Batsmen')\n",
    "plt.title('Most runs scored by an opener')\n",
    "plt.yticks(np.arange(0,5100,500))\n",
    "\n",
    "axes2= plt.twinx()\n",
    "axes2.plot(temp.batsman, temp.boundary_percent*100, 'r-o', label='Percent of runs scored in boundary')\n",
    "axes2.plot(temp.batsman, temp.strike_rate, 'y-o', label='Strike Rate')\n",
    "plt.ylabel('Percent/ Strike Rate')\n",
    "plt.yticks(np.arange(50,180,10))\n",
    "\n",
    "plt.legend()\n",
    "plt.show()"
   ]
  },
  {
   "cell_type": "markdown",
   "metadata": {},
   "source": [
    "### Best Bowling Statistics"
   ]
  },
  {
   "cell_type": "code",
   "execution_count": 145,
   "metadata": {},
   "outputs": [
    {
     "data": {
      "image/png": "[encoded data removed]",
      "text/plain": [
       "<Figure size 648x432 with 2 Axes>"
      ]
     },
     "metadata": {},
     "output_type": "display_data"
    }
   ],
   "source": [
    "# Most wickets taken\n",
    "temp= bowler.sort_values(by='wickets_taken', ascending= False).head(7)\n",
    "\n",
    "plt.figure(figsize=(9,6))\n",
    "sns.barplot(x= temp.bowler, y= temp.wickets_taken, color= 'tab:blue')\n",
    "plt.ylabel('Wickets taken')\n",
    "plt.yticks(np.arange(0,190,20))\n",
    "\n",
    "axes2= plt.twinx()\n",
    "axes2.plot(temp.bowler, temp.bowl_lbw_percent, 'g-o', label='Percent of bowled/LBW dismissals')\n",
    "axes2.plot(temp.bowler, temp.dot_ball_percent, 'r-o', label='Percent dot balls')\n",
    "plt.ylabel('Percent', )\n",
    "plt.yticks(np.arange(0,0.6,0.1))\n",
    "plt.legend()\n",
    "plt.title('Most wickets taken and their economy')\n",
    "\n",
    "plt.show()"
   ]
  },
  {
   "cell_type": "code",
   "execution_count": 165,
   "metadata": {},
   "outputs": [
    {
     "data": {
      "image/png": "[encoded data removed]",
      "text/plain": [
       "<Figure size 648x432 with 1 Axes>"
      ]
     },
     "metadata": {},
     "output_type": "display_data"
    }
   ],
   "source": [
    "# Bowlers with best economy\n",
    "temp =bowler.query('death_balls > 120').sort_values(by='economy', ascending= True).head(7)\n",
    "sns.set_style('darkgrid')\n",
    "plt.figure(figsize=(9,6))\n",
    "sns.lineplot(temp.bowler, temp.economy, color='tab:red', marker='o', label='Economy', sort= False)\n",
    "sns.lineplot(temp.bowler, temp.death_econ, color='tab:green', marker='o', label='Economy in death overs (>18)', sort= False)\n",
    "sns.lineplot(temp.bowler, temp.dot_ball_percent*6, color='tab:blue', marker='o', label='Average dot balls per over', sort= False)\n",
    "plt.yticks(np.arange(0,11,1))\n",
    "plt.ylabel('Economy/ Dot balls per over')\n",
    "plt.xlabel('Bowler')\n",
    "plt.title('Most economical bowlers')\n",
    "plt.legend()\n",
    "plt.show()"
   ]
  },
  {
   "cell_type": "markdown",
   "metadata": {},
   "source": [
    "### Ground wise"
   ]
  },
  {
   "cell_type": "code",
   "execution_count": 186,
   "metadata": {},
   "outputs": [
    {
     "data": {
      "text/html": [
       "<div>\n",
       "<style scoped>\n",
       "    .dataframe tbody tr th:only-of-type {\n",
       "        vertical-align: middle;\n",
       "    }\n",
       "\n",
       "    .dataframe tbody tr th {\n",
       "        vertical-align: top;\n",
       "    }\n",
       "\n",
       "    .dataframe thead th {\n",
       "        text-align: right;\n",
       "    }\n",
       "</style>\n",
       "<table border=\"1\" class=\"dataframe\">\n",
       "  <thead>\n",
       "    <tr style=\"text-align: right;\">\n",
       "      <th></th>\n",
       "      <th>id</th>\n",
       "      <th>season</th>\n",
       "      <th>city</th>\n",
       "      <th>date</th>\n",
       "      <th>team1</th>\n",
       "      <th>team2</th>\n",
       "      <th>toss_winner</th>\n",
       "      <th>toss_decision</th>\n",
       "      <th>result</th>\n",
       "      <th>dl_applied</th>\n",
       "      <th>...</th>\n",
       "      <th>win_by_wickets</th>\n",
       "      <th>player_of_match</th>\n",
       "      <th>venue</th>\n",
       "      <th>match_id</th>\n",
       "      <th>runs_1</th>\n",
       "      <th>runs_2</th>\n",
       "      <th>overs_1</th>\n",
       "      <th>overs_2</th>\n",
       "      <th>wickets_1</th>\n",
       "      <th>wickets_2</th>\n",
       "    </tr>\n",
       "  </thead>\n",
       "  <tbody>\n",
       "    <tr>\n",
       "      <td>0</td>\n",
       "      <td>1</td>\n",
       "      <td>2017</td>\n",
       "      <td>Hyderabad</td>\n",
       "      <td>2017-04-05</td>\n",
       "      <td>Hyderabad (Sunriser/Chargers)</td>\n",
       "      <td>Royal Challengers Bangalore</td>\n",
       "      <td>Royal Challengers Bangalore</td>\n",
       "      <td>field</td>\n",
       "      <td>normal</td>\n",
       "      <td>0</td>\n",
       "      <td>...</td>\n",
       "      <td>0</td>\n",
       "      <td>Yuvraj Singh</td>\n",
       "      <td>Rajiv Gandhi International Stadium, Uppal</td>\n",
       "      <td>1.0</td>\n",
       "      <td>207.0</td>\n",
       "      <td>172.0</td>\n",
       "      <td>20.6</td>\n",
       "      <td>20.4</td>\n",
       "      <td>4.0</td>\n",
       "      <td>10.0</td>\n",
       "    </tr>\n",
       "  </tbody>\n",
       "</table>\n",
       "<p>1 rows × 22 columns</p>\n",
       "</div>"
      ],
      "text/plain": [
       "   id  season       city        date                          team1  \\\n",
       "0   1    2017  Hyderabad  2017-04-05  Hyderabad (Sunriser/Chargers)   \n",
       "\n",
       "                         team2                  toss_winner toss_decision  \\\n",
       "0  Royal Challengers Bangalore  Royal Challengers Bangalore         field   \n",
       "\n",
       "   result  dl_applied  ... win_by_wickets  player_of_match  \\\n",
       "0  normal           0  ...              0     Yuvraj Singh   \n",
       "\n",
       "                                       venue match_id runs_1  runs_2  overs_1  \\\n",
       "0  Rajiv Gandhi International Stadium, Uppal      1.0  207.0   172.0     20.6   \n",
       "\n",
       "   overs_2  wickets_1  wickets_2  \n",
       "0     20.4        4.0       10.0  \n",
       "\n",
       "[1 rows x 22 columns]"
      ]
     },
     "execution_count": 186,
     "metadata": {},
     "output_type": "execute_result"
    }
   ],
   "source": [
    "match.head(1)"
   ]
  },
  {
   "cell_type": "markdown",
   "metadata": {},
   "source": [
    "### Venue Analysis"
   ]
  },
  {
   "cell_type": "code",
   "execution_count": 270,
   "metadata": {},
   "outputs": [],
   "source": [
    "# Win percentage for team batting first on each venue\n",
    "major_city= ['Bangalore','Chandigarh','Chennai','Delhi','Hyderabad','Jaipur','Kolkata','Mumbai','Pune']\n",
    "\n",
    "temp = match[match['city'].isin(major_city) ]"
   ]
  },
  {
   "cell_type": "code",
   "execution_count": 277,
   "metadata": {},
   "outputs": [
    {
     "data": {
      "image/png": "[encoded data removed]",
      "text/plain": [
       "<Figure size 648x432 with 1 Axes>"
      ]
     },
     "metadata": {},
     "output_type": "display_data"
    }
   ],
   "source": [
    "# Win percentage for team batting first on each venue\n",
    "temp2 = temp.groupby(by='city').batting_first_won.mean()\n",
    "\n",
    "plt.figure(figsize=(9,6))\n",
    "sns.barplot(x=temp2.index, y=temp2, color='tab:blue')\n",
    "plt.axhline(match.batting_first_won.mean(), color='r', label='Average winning rate for team batting first', linestyle='--')\n",
    "plt.xlabel('Venue for the match')\n",
    "plt.ylabel('Percent win for team batting first')\n",
    "plt.title('Winning percent for team batting first across the venues')\n",
    "plt.yticks(np.arange(0,0.7,0.05))\n",
    "plt.legend()\n",
    "plt.show()"
   ]
  },
  {
   "cell_type": "code",
   "execution_count": 250,
   "metadata": {},
   "outputs": [
    {
     "data": {
      "text/html": [
       "<div>\n",
       "<style scoped>\n",
       "    .dataframe tbody tr th:only-of-type {\n",
       "        vertical-align: middle;\n",
       "    }\n",
       "\n",
       "    .dataframe tbody tr th {\n",
       "        vertical-align: top;\n",
       "    }\n",
       "\n",
       "    .dataframe thead th {\n",
       "        text-align: right;\n",
       "    }\n",
       "</style>\n",
       "<table border=\"1\" class=\"dataframe\">\n",
       "  <thead>\n",
       "    <tr style=\"text-align: right;\">\n",
       "      <th>winner</th>\n",
       "      <th>Hyderabad (Sunriser/Chargers)</th>\n",
       "      <th>Kolkata Knight Riders</th>\n",
       "      <th>Kings XI Punjab</th>\n",
       "      <th>Royal Challengers Bangalore</th>\n",
       "      <th>Mumbai Indians</th>\n",
       "      <th>Delhi (Capitals/ Daredevils)</th>\n",
       "      <th>Chennai Super Kings</th>\n",
       "      <th>Rajasthan Royals</th>\n",
       "    </tr>\n",
       "    <tr>\n",
       "      <th>city</th>\n",
       "      <th></th>\n",
       "      <th></th>\n",
       "      <th></th>\n",
       "      <th></th>\n",
       "      <th></th>\n",
       "      <th></th>\n",
       "      <th></th>\n",
       "      <th></th>\n",
       "    </tr>\n",
       "  </thead>\n",
       "  <tbody>\n",
       "    <tr>\n",
       "      <td>Bangalore</td>\n",
       "      <td>0.333333</td>\n",
       "      <td>0.250000</td>\n",
       "      <td>0.400000</td>\n",
       "      <td>0.486486</td>\n",
       "      <td>0.333333</td>\n",
       "      <td>0.250000</td>\n",
       "      <td>0.600000</td>\n",
       "      <td>0.500000</td>\n",
       "    </tr>\n",
       "    <tr>\n",
       "      <td>Chandigarh</td>\n",
       "      <td>0.750000</td>\n",
       "      <td>0.333333</td>\n",
       "      <td>0.454545</td>\n",
       "      <td>0.333333</td>\n",
       "      <td>0.500000</td>\n",
       "      <td>0.000000</td>\n",
       "      <td>0.333333</td>\n",
       "      <td>0.666667</td>\n",
       "    </tr>\n",
       "    <tr>\n",
       "      <td>Chennai</td>\n",
       "      <td>0.500000</td>\n",
       "      <td>0.000000</td>\n",
       "      <td>1.000000</td>\n",
       "      <td>1.000000</td>\n",
       "      <td>0.400000</td>\n",
       "      <td>0.000000</td>\n",
       "      <td>0.650000</td>\n",
       "      <td>1.000000</td>\n",
       "    </tr>\n",
       "    <tr>\n",
       "      <td>Delhi</td>\n",
       "      <td>0.375000</td>\n",
       "      <td>0.200000</td>\n",
       "      <td>0.200000</td>\n",
       "      <td>0.500000</td>\n",
       "      <td>0.750000</td>\n",
       "      <td>0.580645</td>\n",
       "      <td>0.333333</td>\n",
       "      <td>0.250000</td>\n",
       "    </tr>\n",
       "    <tr>\n",
       "      <td>Hyderabad</td>\n",
       "      <td>0.454545</td>\n",
       "      <td>0.400000</td>\n",
       "      <td>0.250000</td>\n",
       "      <td>0.000000</td>\n",
       "      <td>0.714286</td>\n",
       "      <td>0.200000</td>\n",
       "      <td>0.666667</td>\n",
       "      <td>0.000000</td>\n",
       "    </tr>\n",
       "    <tr>\n",
       "      <td>Jaipur</td>\n",
       "      <td>1.000000</td>\n",
       "      <td>0.000000</td>\n",
       "      <td>1.000000</td>\n",
       "      <td>0.333333</td>\n",
       "      <td>0.500000</td>\n",
       "      <td>0.000000</td>\n",
       "      <td>0.333333</td>\n",
       "      <td>0.312500</td>\n",
       "    </tr>\n",
       "    <tr>\n",
       "      <td>Kolkata</td>\n",
       "      <td>0.500000</td>\n",
       "      <td>0.444444</td>\n",
       "      <td>0.333333</td>\n",
       "      <td>0.250000</td>\n",
       "      <td>0.500000</td>\n",
       "      <td>0.000000</td>\n",
       "      <td>0.200000</td>\n",
       "      <td>0.000000</td>\n",
       "    </tr>\n",
       "    <tr>\n",
       "      <td>Mumbai</td>\n",
       "      <td>0.600000</td>\n",
       "      <td>0.666667</td>\n",
       "      <td>0.800000</td>\n",
       "      <td>0.200000</td>\n",
       "      <td>0.566038</td>\n",
       "      <td>0.250000</td>\n",
       "      <td>0.181818</td>\n",
       "      <td>0.428571</td>\n",
       "    </tr>\n",
       "    <tr>\n",
       "      <td>Pune</td>\n",
       "      <td>1.000000</td>\n",
       "      <td>0.500000</td>\n",
       "      <td>0.000000</td>\n",
       "      <td>1.000000</td>\n",
       "      <td>0.250000</td>\n",
       "      <td>0.333333</td>\n",
       "      <td>0.500000</td>\n",
       "      <td>0.500000</td>\n",
       "    </tr>\n",
       "  </tbody>\n",
       "</table>\n",
       "</div>"
      ],
      "text/plain": [
       "winner      Hyderabad (Sunriser/Chargers)  Kolkata Knight Riders  \\\n",
       "city                                                               \n",
       "Bangalore                        0.333333               0.250000   \n",
       "Chandigarh                       0.750000               0.333333   \n",
       "Chennai                          0.500000               0.000000   \n",
       "Delhi                            0.375000               0.200000   \n",
       "Hyderabad                        0.454545               0.400000   \n",
       "Jaipur                           1.000000               0.000000   \n",
       "Kolkata                          0.500000               0.444444   \n",
       "Mumbai                           0.600000               0.666667   \n",
       "Pune                             1.000000               0.500000   \n",
       "\n",
       "winner      Kings XI Punjab  Royal Challengers Bangalore  Mumbai Indians  \\\n",
       "city                                                                       \n",
       "Bangalore          0.400000                     0.486486        0.333333   \n",
       "Chandigarh         0.454545                     0.333333        0.500000   \n",
       "Chennai            1.000000                     1.000000        0.400000   \n",
       "Delhi              0.200000                     0.500000        0.750000   \n",
       "Hyderabad          0.250000                     0.000000        0.714286   \n",
       "Jaipur             1.000000                     0.333333        0.500000   \n",
       "Kolkata            0.333333                     0.250000        0.500000   \n",
       "Mumbai             0.800000                     0.200000        0.566038   \n",
       "Pune               0.000000                     1.000000        0.250000   \n",
       "\n",
       "winner      Delhi (Capitals/ Daredevils)  Chennai Super Kings  \\\n",
       "city                                                            \n",
       "Bangalore                       0.250000             0.600000   \n",
       "Chandigarh                      0.000000             0.333333   \n",
       "Chennai                         0.000000             0.650000   \n",
       "Delhi                           0.580645             0.333333   \n",
       "Hyderabad                       0.200000             0.666667   \n",
       "Jaipur                          0.000000             0.333333   \n",
       "Kolkata                         0.000000             0.200000   \n",
       "Mumbai                          0.250000             0.181818   \n",
       "Pune                            0.333333             0.500000   \n",
       "\n",
       "winner      Rajasthan Royals  \n",
       "city                          \n",
       "Bangalore           0.500000  \n",
       "Chandigarh          0.666667  \n",
       "Chennai             1.000000  \n",
       "Delhi               0.250000  \n",
       "Hyderabad           0.000000  \n",
       "Jaipur              0.312500  \n",
       "Kolkata             0.000000  \n",
       "Mumbai              0.428571  \n",
       "Pune                0.500000  "
      ]
     },
     "execution_count": 250,
     "metadata": {},
     "output_type": "execute_result"
    }
   ],
   "source": [
    "major_teams= ['Hyderabad (Sunriser/Chargers)', 'Kolkata Knight Riders', 'Kings XI Punjab',\n",
    "       'Royal Challengers Bangalore', 'Mumbai Indians',\n",
    "       'Delhi (Capitals/ Daredevils)','Chennai Super Kings', 'Rajasthan Royals']\n",
    "temp.pivot_table(index='city', columns='winner',values='batting_first_won', aggfunc='mean' )[major_teams]"
   ]
  },
  {
   "cell_type": "code",
   "execution_count": 295,
   "metadata": {},
   "outputs": [
    {
     "data": {
      "image/png": "[encoded data removed]",
      "text/plain": [
       "<Figure size 720x432 with 2 Axes>"
      ]
     },
     "metadata": {},
     "output_type": "display_data"
    }
   ],
   "source": [
    "plt.figure(figsize=(10,6))\n",
    "ax= sns.heatmap(temp.pivot_table(index='city', columns='winner',values='runs_1', aggfunc='mean', )[major_teams],\\\n",
    "           annot=True, cmap= 'viridis' )\n",
    "bottom, top= ax.get_ylim()\n",
    "ax.set_ylim(bottom+0.5, top-0.5)\n",
    "plt.show()"
   ]
  },
  {
   "cell_type": "code",
   "execution_count": 311,
   "metadata": {},
   "outputs": [
    {
     "data": {
      "image/png": "[encoded data removed]",
      "text/plain": [
       "<Figure size 576x432 with 1 Axes>"
      ]
     },
     "metadata": {},
     "output_type": "display_data"
    }
   ],
   "source": [
    "plt.figure(figsize=(8,6))\n",
    "\n",
    "sns.boxplot(x=temp.city, y=temp.runs_1,color= 'tab:blue' )\n",
    "plt.axhline(match.runs_1.median(), color='r', linestyle='--')\n",
    "plt.yticks(np.arange(0,325,20))\n",
    "plt.show()"
   ]
  },
  {
   "cell_type": "code",
   "execution_count": 310,
   "metadata": {},
   "outputs": [
    {
     "data": {
      "text/plain": [
       "163.5"
      ]
     },
     "execution_count": 310,
     "metadata": {},
     "output_type": "execute_result"
    }
   ],
   "source": []
  },
  {
   "cell_type": "code",
   "execution_count": null,
   "metadata": {},
   "outputs": [],
   "source": []
  }
 ],
 "metadata": {
  "kernelspec": {
   "display_name": "Python 3",
   "language": "python",
   "name": "python3"
  },
  "language_info": {
   "codemirror_mode": {
    "name": "ipython",
    "version": 3
   },
   "file_extension": ".py",
   "mimetype": "text/x-python",
   "name": "python",
   "nbconvert_exporter": "python",
   "pygments_lexer": "ipython3",
   "version": "3.7.4"
  }
 },
 "nbformat": 4,
 "nbformat_minor": 2
}
